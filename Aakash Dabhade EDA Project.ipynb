{
 "cells": [
  {
   "cell_type": "code",
   "execution_count": 1,
   "id": "cb0ad37c",
   "metadata": {},
   "outputs": [],
   "source": [
    "%matplotlib inline\n",
    "import numpy as np\n",
    "import pandas as pd\n",
    "import matplotlib.pyplot as plt\n",
    "import seaborn as sns\n",
    "from sklearn.preprocessing import MinMaxScaler\n",
    "from sklearn.metrics import mean_squared_error as mse\n",
    "import warnings\n",
    "warnings.filterwarnings('ignore')"
   ]
  },
  {
   "cell_type": "code",
   "execution_count": 2,
   "id": "29a4b3f1",
   "metadata": {},
   "outputs": [],
   "source": [
    "# Importing dataset \n",
    "data2 = pd.read_csv('nyc_taxi_trip_duration.csv')"
   ]
  },
  {
   "cell_type": "code",
   "execution_count": 3,
   "id": "98579f17",
   "metadata": {},
   "outputs": [
    {
     "data": {
      "text/html": [
       "<div>\n",
       "<style scoped>\n",
       "    .dataframe tbody tr th:only-of-type {\n",
       "        vertical-align: middle;\n",
       "    }\n",
       "\n",
       "    .dataframe tbody tr th {\n",
       "        vertical-align: top;\n",
       "    }\n",
       "\n",
       "    .dataframe thead th {\n",
       "        text-align: right;\n",
       "    }\n",
       "</style>\n",
       "<table border=\"1\" class=\"dataframe\">\n",
       "  <thead>\n",
       "    <tr style=\"text-align: right;\">\n",
       "      <th></th>\n",
       "      <th>id</th>\n",
       "      <th>vendor_id</th>\n",
       "      <th>pickup_datetime</th>\n",
       "      <th>dropoff_datetime</th>\n",
       "      <th>passenger_count</th>\n",
       "      <th>pickup_longitude</th>\n",
       "      <th>pickup_latitude</th>\n",
       "      <th>dropoff_longitude</th>\n",
       "      <th>dropoff_latitude</th>\n",
       "      <th>store_and_fwd_flag</th>\n",
       "      <th>trip_duration</th>\n",
       "    </tr>\n",
       "  </thead>\n",
       "  <tbody>\n",
       "    <tr>\n",
       "      <th>0</th>\n",
       "      <td>id1080784</td>\n",
       "      <td>2</td>\n",
       "      <td>2016-02-29 16:40:21</td>\n",
       "      <td>2016-02-29 16:47:01</td>\n",
       "      <td>1</td>\n",
       "      <td>-73.953918</td>\n",
       "      <td>40.778873</td>\n",
       "      <td>-73.963875</td>\n",
       "      <td>40.771164</td>\n",
       "      <td>N</td>\n",
       "      <td>400</td>\n",
       "    </tr>\n",
       "    <tr>\n",
       "      <th>1</th>\n",
       "      <td>id0889885</td>\n",
       "      <td>1</td>\n",
       "      <td>2016-03-11 23:35:37</td>\n",
       "      <td>2016-03-11 23:53:57</td>\n",
       "      <td>2</td>\n",
       "      <td>-73.988312</td>\n",
       "      <td>40.731743</td>\n",
       "      <td>-73.994751</td>\n",
       "      <td>40.694931</td>\n",
       "      <td>N</td>\n",
       "      <td>1100</td>\n",
       "    </tr>\n",
       "    <tr>\n",
       "      <th>2</th>\n",
       "      <td>id0857912</td>\n",
       "      <td>2</td>\n",
       "      <td>2016-02-21 17:59:33</td>\n",
       "      <td>2016-02-21 18:26:48</td>\n",
       "      <td>2</td>\n",
       "      <td>-73.997314</td>\n",
       "      <td>40.721458</td>\n",
       "      <td>-73.948029</td>\n",
       "      <td>40.774918</td>\n",
       "      <td>N</td>\n",
       "      <td>1635</td>\n",
       "    </tr>\n",
       "    <tr>\n",
       "      <th>3</th>\n",
       "      <td>id3744273</td>\n",
       "      <td>2</td>\n",
       "      <td>2016-01-05 09:44:31</td>\n",
       "      <td>2016-01-05 10:03:32</td>\n",
       "      <td>6</td>\n",
       "      <td>-73.961670</td>\n",
       "      <td>40.759720</td>\n",
       "      <td>-73.956779</td>\n",
       "      <td>40.780628</td>\n",
       "      <td>N</td>\n",
       "      <td>1141</td>\n",
       "    </tr>\n",
       "    <tr>\n",
       "      <th>4</th>\n",
       "      <td>id0232939</td>\n",
       "      <td>1</td>\n",
       "      <td>2016-02-17 06:42:23</td>\n",
       "      <td>2016-02-17 06:56:31</td>\n",
       "      <td>1</td>\n",
       "      <td>-74.017120</td>\n",
       "      <td>40.708469</td>\n",
       "      <td>-73.988182</td>\n",
       "      <td>40.740631</td>\n",
       "      <td>N</td>\n",
       "      <td>848</td>\n",
       "    </tr>\n",
       "  </tbody>\n",
       "</table>\n",
       "</div>"
      ],
      "text/plain": [
       "          id  vendor_id      pickup_datetime     dropoff_datetime  \\\n",
       "0  id1080784          2  2016-02-29 16:40:21  2016-02-29 16:47:01   \n",
       "1  id0889885          1  2016-03-11 23:35:37  2016-03-11 23:53:57   \n",
       "2  id0857912          2  2016-02-21 17:59:33  2016-02-21 18:26:48   \n",
       "3  id3744273          2  2016-01-05 09:44:31  2016-01-05 10:03:32   \n",
       "4  id0232939          1  2016-02-17 06:42:23  2016-02-17 06:56:31   \n",
       "\n",
       "   passenger_count  pickup_longitude  pickup_latitude  dropoff_longitude  \\\n",
       "0                1        -73.953918        40.778873         -73.963875   \n",
       "1                2        -73.988312        40.731743         -73.994751   \n",
       "2                2        -73.997314        40.721458         -73.948029   \n",
       "3                6        -73.961670        40.759720         -73.956779   \n",
       "4                1        -74.017120        40.708469         -73.988182   \n",
       "\n",
       "   dropoff_latitude store_and_fwd_flag  trip_duration  \n",
       "0         40.771164                  N            400  \n",
       "1         40.694931                  N           1100  \n",
       "2         40.774918                  N           1635  \n",
       "3         40.780628                  N           1141  \n",
       "4         40.740631                  N            848  "
      ]
     },
     "execution_count": 3,
     "metadata": {},
     "output_type": "execute_result"
    }
   ],
   "source": [
    "# Displaying First 5 Rows\n",
    "data2.head()"
   ]
  },
  {
   "cell_type": "code",
   "execution_count": 4,
   "id": "7c040579",
   "metadata": {},
   "outputs": [
    {
     "data": {
      "text/html": [
       "<div>\n",
       "<style scoped>\n",
       "    .dataframe tbody tr th:only-of-type {\n",
       "        vertical-align: middle;\n",
       "    }\n",
       "\n",
       "    .dataframe tbody tr th {\n",
       "        vertical-align: top;\n",
       "    }\n",
       "\n",
       "    .dataframe thead th {\n",
       "        text-align: right;\n",
       "    }\n",
       "</style>\n",
       "<table border=\"1\" class=\"dataframe\">\n",
       "  <thead>\n",
       "    <tr style=\"text-align: right;\">\n",
       "      <th></th>\n",
       "      <th>id</th>\n",
       "      <th>vendor_id</th>\n",
       "      <th>pickup_datetime</th>\n",
       "      <th>dropoff_datetime</th>\n",
       "      <th>passenger_count</th>\n",
       "      <th>pickup_longitude</th>\n",
       "      <th>pickup_latitude</th>\n",
       "      <th>dropoff_longitude</th>\n",
       "      <th>dropoff_latitude</th>\n",
       "      <th>store_and_fwd_flag</th>\n",
       "      <th>trip_duration</th>\n",
       "    </tr>\n",
       "  </thead>\n",
       "  <tbody>\n",
       "    <tr>\n",
       "      <th>729317</th>\n",
       "      <td>id3905982</td>\n",
       "      <td>2</td>\n",
       "      <td>2016-05-21 13:29:38</td>\n",
       "      <td>2016-05-21 13:34:34</td>\n",
       "      <td>2</td>\n",
       "      <td>-73.965919</td>\n",
       "      <td>40.789780</td>\n",
       "      <td>-73.952637</td>\n",
       "      <td>40.789181</td>\n",
       "      <td>N</td>\n",
       "      <td>296</td>\n",
       "    </tr>\n",
       "    <tr>\n",
       "      <th>729318</th>\n",
       "      <td>id0102861</td>\n",
       "      <td>1</td>\n",
       "      <td>2016-02-22 00:43:11</td>\n",
       "      <td>2016-02-22 00:48:26</td>\n",
       "      <td>1</td>\n",
       "      <td>-73.996666</td>\n",
       "      <td>40.737434</td>\n",
       "      <td>-74.001320</td>\n",
       "      <td>40.731911</td>\n",
       "      <td>N</td>\n",
       "      <td>315</td>\n",
       "    </tr>\n",
       "    <tr>\n",
       "      <th>729319</th>\n",
       "      <td>id0439699</td>\n",
       "      <td>1</td>\n",
       "      <td>2016-04-15 18:56:48</td>\n",
       "      <td>2016-04-15 19:08:01</td>\n",
       "      <td>1</td>\n",
       "      <td>-73.997849</td>\n",
       "      <td>40.761696</td>\n",
       "      <td>-74.001488</td>\n",
       "      <td>40.741207</td>\n",
       "      <td>N</td>\n",
       "      <td>673</td>\n",
       "    </tr>\n",
       "    <tr>\n",
       "      <th>729320</th>\n",
       "      <td>id2078912</td>\n",
       "      <td>1</td>\n",
       "      <td>2016-06-19 09:50:47</td>\n",
       "      <td>2016-06-19 09:58:14</td>\n",
       "      <td>1</td>\n",
       "      <td>-74.006706</td>\n",
       "      <td>40.708244</td>\n",
       "      <td>-74.013550</td>\n",
       "      <td>40.713814</td>\n",
       "      <td>N</td>\n",
       "      <td>447</td>\n",
       "    </tr>\n",
       "    <tr>\n",
       "      <th>729321</th>\n",
       "      <td>id1053441</td>\n",
       "      <td>2</td>\n",
       "      <td>2016-01-01 17:24:16</td>\n",
       "      <td>2016-01-01 17:44:40</td>\n",
       "      <td>4</td>\n",
       "      <td>-74.003342</td>\n",
       "      <td>40.743839</td>\n",
       "      <td>-73.945847</td>\n",
       "      <td>40.712841</td>\n",
       "      <td>N</td>\n",
       "      <td>1224</td>\n",
       "    </tr>\n",
       "  </tbody>\n",
       "</table>\n",
       "</div>"
      ],
      "text/plain": [
       "               id  vendor_id      pickup_datetime     dropoff_datetime  \\\n",
       "729317  id3905982          2  2016-05-21 13:29:38  2016-05-21 13:34:34   \n",
       "729318  id0102861          1  2016-02-22 00:43:11  2016-02-22 00:48:26   \n",
       "729319  id0439699          1  2016-04-15 18:56:48  2016-04-15 19:08:01   \n",
       "729320  id2078912          1  2016-06-19 09:50:47  2016-06-19 09:58:14   \n",
       "729321  id1053441          2  2016-01-01 17:24:16  2016-01-01 17:44:40   \n",
       "\n",
       "        passenger_count  pickup_longitude  pickup_latitude  dropoff_longitude  \\\n",
       "729317                2        -73.965919        40.789780         -73.952637   \n",
       "729318                1        -73.996666        40.737434         -74.001320   \n",
       "729319                1        -73.997849        40.761696         -74.001488   \n",
       "729320                1        -74.006706        40.708244         -74.013550   \n",
       "729321                4        -74.003342        40.743839         -73.945847   \n",
       "\n",
       "        dropoff_latitude store_and_fwd_flag  trip_duration  \n",
       "729317         40.789181                  N            296  \n",
       "729318         40.731911                  N            315  \n",
       "729319         40.741207                  N            673  \n",
       "729320         40.713814                  N            447  \n",
       "729321         40.712841                  N           1224  "
      ]
     },
     "execution_count": 4,
     "metadata": {},
     "output_type": "execute_result"
    }
   ],
   "source": [
    "# Displaying Last 5 Rows\n",
    "data2.tail()"
   ]
  },
  {
   "cell_type": "code",
   "execution_count": 5,
   "id": "2127cb4c",
   "metadata": {},
   "outputs": [
    {
     "data": {
      "text/plain": [
       "(729322, 11)"
      ]
     },
     "execution_count": 5,
     "metadata": {},
     "output_type": "execute_result"
    }
   ],
   "source": [
    "# Dataset Size\n",
    "data2.shape"
   ]
  },
  {
   "cell_type": "code",
   "execution_count": 6,
   "id": "9fc02f37",
   "metadata": {},
   "outputs": [
    {
     "data": {
      "text/html": [
       "<div>\n",
       "<style scoped>\n",
       "    .dataframe tbody tr th:only-of-type {\n",
       "        vertical-align: middle;\n",
       "    }\n",
       "\n",
       "    .dataframe tbody tr th {\n",
       "        vertical-align: top;\n",
       "    }\n",
       "\n",
       "    .dataframe thead th {\n",
       "        text-align: right;\n",
       "    }\n",
       "</style>\n",
       "<table border=\"1\" class=\"dataframe\">\n",
       "  <thead>\n",
       "    <tr style=\"text-align: right;\">\n",
       "      <th></th>\n",
       "      <th>vendor_id</th>\n",
       "      <th>passenger_count</th>\n",
       "      <th>pickup_longitude</th>\n",
       "      <th>pickup_latitude</th>\n",
       "      <th>dropoff_longitude</th>\n",
       "      <th>dropoff_latitude</th>\n",
       "      <th>trip_duration</th>\n",
       "    </tr>\n",
       "  </thead>\n",
       "  <tbody>\n",
       "    <tr>\n",
       "      <th>count</th>\n",
       "      <td>729322.000000</td>\n",
       "      <td>729322.000000</td>\n",
       "      <td>729322.000000</td>\n",
       "      <td>729322.000000</td>\n",
       "      <td>729322.000000</td>\n",
       "      <td>729322.000000</td>\n",
       "      <td>7.293220e+05</td>\n",
       "    </tr>\n",
       "    <tr>\n",
       "      <th>mean</th>\n",
       "      <td>1.535403</td>\n",
       "      <td>1.662055</td>\n",
       "      <td>-73.973513</td>\n",
       "      <td>40.750919</td>\n",
       "      <td>-73.973422</td>\n",
       "      <td>40.751775</td>\n",
       "      <td>9.522291e+02</td>\n",
       "    </tr>\n",
       "    <tr>\n",
       "      <th>std</th>\n",
       "      <td>0.498745</td>\n",
       "      <td>1.312446</td>\n",
       "      <td>0.069754</td>\n",
       "      <td>0.033594</td>\n",
       "      <td>0.069588</td>\n",
       "      <td>0.036037</td>\n",
       "      <td>3.864626e+03</td>\n",
       "    </tr>\n",
       "    <tr>\n",
       "      <th>min</th>\n",
       "      <td>1.000000</td>\n",
       "      <td>0.000000</td>\n",
       "      <td>-121.933342</td>\n",
       "      <td>34.712234</td>\n",
       "      <td>-121.933304</td>\n",
       "      <td>32.181141</td>\n",
       "      <td>1.000000e+00</td>\n",
       "    </tr>\n",
       "    <tr>\n",
       "      <th>25%</th>\n",
       "      <td>1.000000</td>\n",
       "      <td>1.000000</td>\n",
       "      <td>-73.991859</td>\n",
       "      <td>40.737335</td>\n",
       "      <td>-73.991318</td>\n",
       "      <td>40.735931</td>\n",
       "      <td>3.970000e+02</td>\n",
       "    </tr>\n",
       "    <tr>\n",
       "      <th>50%</th>\n",
       "      <td>2.000000</td>\n",
       "      <td>1.000000</td>\n",
       "      <td>-73.981758</td>\n",
       "      <td>40.754070</td>\n",
       "      <td>-73.979759</td>\n",
       "      <td>40.754509</td>\n",
       "      <td>6.630000e+02</td>\n",
       "    </tr>\n",
       "    <tr>\n",
       "      <th>75%</th>\n",
       "      <td>2.000000</td>\n",
       "      <td>2.000000</td>\n",
       "      <td>-73.967361</td>\n",
       "      <td>40.768314</td>\n",
       "      <td>-73.963036</td>\n",
       "      <td>40.769741</td>\n",
       "      <td>1.075000e+03</td>\n",
       "    </tr>\n",
       "    <tr>\n",
       "      <th>max</th>\n",
       "      <td>2.000000</td>\n",
       "      <td>9.000000</td>\n",
       "      <td>-65.897385</td>\n",
       "      <td>51.881084</td>\n",
       "      <td>-65.897385</td>\n",
       "      <td>43.921028</td>\n",
       "      <td>1.939736e+06</td>\n",
       "    </tr>\n",
       "  </tbody>\n",
       "</table>\n",
       "</div>"
      ],
      "text/plain": [
       "           vendor_id  passenger_count  pickup_longitude  pickup_latitude  \\\n",
       "count  729322.000000    729322.000000     729322.000000    729322.000000   \n",
       "mean        1.535403         1.662055        -73.973513        40.750919   \n",
       "std         0.498745         1.312446          0.069754         0.033594   \n",
       "min         1.000000         0.000000       -121.933342        34.712234   \n",
       "25%         1.000000         1.000000        -73.991859        40.737335   \n",
       "50%         2.000000         1.000000        -73.981758        40.754070   \n",
       "75%         2.000000         2.000000        -73.967361        40.768314   \n",
       "max         2.000000         9.000000        -65.897385        51.881084   \n",
       "\n",
       "       dropoff_longitude  dropoff_latitude  trip_duration  \n",
       "count      729322.000000     729322.000000   7.293220e+05  \n",
       "mean          -73.973422         40.751775   9.522291e+02  \n",
       "std             0.069588          0.036037   3.864626e+03  \n",
       "min          -121.933304         32.181141   1.000000e+00  \n",
       "25%           -73.991318         40.735931   3.970000e+02  \n",
       "50%           -73.979759         40.754509   6.630000e+02  \n",
       "75%           -73.963036         40.769741   1.075000e+03  \n",
       "max           -65.897385         43.921028   1.939736e+06  "
      ]
     },
     "execution_count": 6,
     "metadata": {},
     "output_type": "execute_result"
    }
   ],
   "source": [
    "data2.describe()"
   ]
  },
  {
   "cell_type": "markdown",
   "id": "ca9d058c",
   "metadata": {},
   "source": [
    "    Our target variable is trip duration variable (Dependent Variable). Keeping it in mind lets start our EDA and make a suitable dataset for our models."
   ]
  },
  {
   "cell_type": "code",
   "execution_count": 7,
   "id": "0806ff5a",
   "metadata": {},
   "outputs": [
    {
     "data": {
      "text/plain": [
       "id                    0\n",
       "vendor_id             0\n",
       "pickup_datetime       0\n",
       "dropoff_datetime      0\n",
       "passenger_count       0\n",
       "pickup_longitude      0\n",
       "pickup_latitude       0\n",
       "dropoff_longitude     0\n",
       "dropoff_latitude      0\n",
       "store_and_fwd_flag    0\n",
       "trip_duration         0\n",
       "dtype: int64"
      ]
     },
     "execution_count": 7,
     "metadata": {},
     "output_type": "execute_result"
    }
   ],
   "source": [
    "# Checking for null values\n",
    "data2.isnull().sum()"
   ]
  },
  {
   "cell_type": "markdown",
   "id": "c374149d",
   "metadata": {},
   "source": [
    "No Null values present"
   ]
  },
  {
   "cell_type": "code",
   "execution_count": 8,
   "id": "dc04b7b1",
   "metadata": {},
   "outputs": [
    {
     "data": {
      "text/plain": [
       "id                     object\n",
       "vendor_id               int64\n",
       "pickup_datetime        object\n",
       "dropoff_datetime       object\n",
       "passenger_count         int64\n",
       "pickup_longitude      float64\n",
       "pickup_latitude       float64\n",
       "dropoff_longitude     float64\n",
       "dropoff_latitude      float64\n",
       "store_and_fwd_flag     object\n",
       "trip_duration           int64\n",
       "dtype: object"
      ]
     },
     "execution_count": 8,
     "metadata": {},
     "output_type": "execute_result"
    }
   ],
   "source": [
    "data2.dtypes"
   ]
  },
  {
   "cell_type": "code",
   "execution_count": 9,
   "id": "28a54b68",
   "metadata": {},
   "outputs": [],
   "source": [
    "# Usung 30% of Data\n",
    "#data = data2.sample(frac = 0.3, random_state = 0, replace = True)"
   ]
  },
  {
   "cell_type": "code",
   "execution_count": 10,
   "id": "2554e270",
   "metadata": {},
   "outputs": [],
   "source": [
    "#data.shape"
   ]
  },
  {
   "cell_type": "code",
   "execution_count": 11,
   "id": "bdca33fe",
   "metadata": {},
   "outputs": [],
   "source": [
    "data = data2"
   ]
  },
  {
   "cell_type": "code",
   "execution_count": 12,
   "id": "cd0f1b42",
   "metadata": {},
   "outputs": [
    {
     "data": {
      "text/plain": [
       "(729322, 11)"
      ]
     },
     "execution_count": 12,
     "metadata": {},
     "output_type": "execute_result"
    }
   ],
   "source": [
    "data.shape"
   ]
  },
  {
   "cell_type": "code",
   "execution_count": 13,
   "id": "6f7935fc",
   "metadata": {},
   "outputs": [
    {
     "data": {
      "text/plain": [
       "Text(0, 0.5, 'Frequency')"
      ]
     },
     "execution_count": 13,
     "metadata": {},
     "output_type": "execute_result"
    },
    {
     "data": {
      "image/png": "[encoded data removed]",
      "text/plain": [
       "<Figure size 1584x432 with 3 Axes>"
      ]
     },
     "metadata": {
      "needs_background": "light"
     },
     "output_type": "display_data"
    }
   ],
   "source": [
    "# Binary Features\n",
    "plt.figure(figsize=(22, 6))\n",
    "#fig, axs = plt.subplot(ncols=2)\n",
    "\n",
    "# Passenger Count\n",
    "plt.subplot(131)\n",
    "sns.countplot(data['passenger_count'])\n",
    "plt.xlabel('Passenger Count')\n",
    "plt.ylabel('Frequency')\n",
    "\n",
    "\n",
    "# vendor_id\n",
    "plt.subplot(132)\n",
    "sns.countplot(data['vendor_id'])\n",
    "plt.xlabel('vendor_id')\n",
    "plt.ylabel('Frequency')\n",
    "\n",
    "# store_and_fwd_flag\n",
    "plt.subplot(133)\n",
    "sns.countplot(data['store_and_fwd_flag'])\n",
    "plt.xlabel('store_and_fwd_flag')\n",
    "plt.ylabel('Frequency')"
   ]
  },
  {
   "cell_type": "code",
   "execution_count": 14,
   "id": "3bfaf573",
   "metadata": {},
   "outputs": [],
   "source": [
    "from datetime import timedelta\n",
    "import datetime as dt"
   ]
  },
  {
   "cell_type": "code",
   "execution_count": 15,
   "id": "de3d3b70",
   "metadata": {},
   "outputs": [],
   "source": [
    "# Convert timestamp to datetime format to fetch the other details as listed below\n",
    "\n",
    "data['pickup_datetime'] = pd.to_datetime(data['pickup_datetime'])\n",
    "data['dropoff_datetime'] = pd.to_datetime(data['dropoff_datetime'])"
   ]
  },
  {
   "cell_type": "code",
   "execution_count": 16,
   "id": "59b4c552",
   "metadata": {},
   "outputs": [],
   "source": [
    "# Using datetime to create new columns - day_name, day_number, month, pickup_hour\n",
    "data['day_name'] = data.pickup_datetime.dt.day_name\n",
    "data['month'] = data.pickup_datetime.dt.month\n",
    "data['day_number'] = data.pickup_datetime.dt.weekday\n",
    "data['pickup_hour'] = data.pickup_datetime.dt.hour  "
   ]
  },
  {
   "cell_type": "code",
   "execution_count": 17,
   "id": "d093a837",
   "metadata": {},
   "outputs": [],
   "source": [
    "# Converting day_number, month, pickup_hour to category\n",
    "\n",
    "data['month'] = data['month'].astype('category')\n",
    "data['day_number'] = data['day_number'].astype('category')\n",
    "data['pickup_hour'] = data['pickup_hour'].astype('category')"
   ]
  },
  {
   "cell_type": "code",
   "execution_count": 18,
   "id": "29498356",
   "metadata": {},
   "outputs": [
    {
     "data": {
      "text/plain": [
       "id                            object\n",
       "vendor_id                      int64\n",
       "pickup_datetime       datetime64[ns]\n",
       "dropoff_datetime      datetime64[ns]\n",
       "passenger_count                int64\n",
       "pickup_longitude             float64\n",
       "pickup_latitude              float64\n",
       "dropoff_longitude            float64\n",
       "dropoff_latitude             float64\n",
       "store_and_fwd_flag            object\n",
       "trip_duration                  int64\n",
       "day_name                      object\n",
       "month                       category\n",
       "day_number                  category\n",
       "pickup_hour                 category\n",
       "dtype: object"
      ]
     },
     "execution_count": 18,
     "metadata": {},
     "output_type": "execute_result"
    }
   ],
   "source": [
    "data.dtypes"
   ]
  },
  {
   "cell_type": "code",
   "execution_count": 19,
   "id": "89c4e1c6",
   "metadata": {},
   "outputs": [],
   "source": [
    "# Considering only upto 6 passenger count to prevent any of the outlier\n",
    "\n",
    "data = data[(data['passenger_count'] <= 6) & (data['passenger_count'] > 0)]"
   ]
  },
  {
   "cell_type": "code",
   "execution_count": 20,
   "id": "0470f2ca",
   "metadata": {},
   "outputs": [
    {
     "data": {
      "text/plain": [
       "Text(0, 0.5, 'Frequency')"
      ]
     },
     "execution_count": 20,
     "metadata": {},
     "output_type": "execute_result"
    },
    {
     "data": {
      "image/png": "[encoded data removed]",
      "text/plain": [
       "<Figure size 2160x648 with 1 Axes>"
      ]
     },
     "metadata": {},
     "output_type": "display_data"
    }
   ],
   "source": [
    "# Binary Features\n",
    "plt.figure(figsize=(30, 9),facecolor='w', edgecolor='b')\n",
    "\n",
    "#fig, axs = plt.subplot(ncols=2)\n",
    "\n",
    "# Passenger Count\n",
    "plt.subplot(131)\n",
    "sns.countplot(data['passenger_count'])\n",
    "plt.xlabel('Passenger Count')\n",
    "plt.ylabel('Frequency')"
   ]
  },
  {
   "cell_type": "code",
   "execution_count": 21,
   "id": "418c5380",
   "metadata": {},
   "outputs": [],
   "source": [
    "# Importing geopy which can be used for distance calculation\n",
    "\n",
    "import geopy.distance"
   ]
  },
  {
   "cell_type": "code",
   "execution_count": 22,
   "id": "9c07e09b",
   "metadata": {},
   "outputs": [],
   "source": [
    "def calc_dist(df):\n",
    "    pickup = (df['pickup_latitude'], df['pickup_longitude'])\n",
    "    dropoff = (df['dropoff_latitude'], df['dropoff_longitude'])\n",
    "    return geopy.distance.distance(pickup, dropoff).km"
   ]
  },
  {
   "cell_type": "code",
   "execution_count": 23,
   "id": "5211befe",
   "metadata": {},
   "outputs": [],
   "source": [
    "# Adding the distance column in our dataframe\n",
    "\n",
    "data['distance'] = data.apply(lambda x: calc_dist(x), axis=1)"
   ]
  },
  {
   "cell_type": "code",
   "execution_count": 24,
   "id": "dc6ec4bf",
   "metadata": {},
   "outputs": [],
   "source": [
    "data['speed'] = (data.distance/(data.trip_duration/3600))"
   ]
  },
  {
   "cell_type": "markdown",
   "id": "35beaf9f",
   "metadata": {},
   "source": [
    "### Plotting distribution of trip duration and distance for checking outliers"
   ]
  },
  {
   "cell_type": "code",
   "execution_count": 25,
   "id": "1fbed8b7",
   "metadata": {},
   "outputs": [
    {
     "data": {
      "text/plain": [
       "Text(0.5, 1.0, 'Distribution of trip duration')"
      ]
     },
     "execution_count": 25,
     "metadata": {},
     "output_type": "execute_result"
    },
    {
     "data": {
      "image/png": "[encoded data removed]",
      "text/plain": [
       "<Figure size 864x576 with 1 Axes>"
      ]
     },
     "metadata": {
      "needs_background": "light"
     },
     "output_type": "display_data"
    }
   ],
   "source": [
    "#Plotting distribution of trip duration and distance for checking outliers.\n",
    "\n",
    "plt.figure(figsize=(12, 8))\n",
    "sns.distplot(data['trip_duration'])\n",
    "plt.xlabel('trip duration')\n",
    "plt.title('Distribution of trip duration')"
   ]
  },
  {
   "cell_type": "code",
   "execution_count": 26,
   "id": "33808d3b",
   "metadata": {},
   "outputs": [
    {
     "data": {
      "text/plain": [
       "Text(0.5, 1.0, 'Distribution of distance')"
      ]
     },
     "execution_count": 26,
     "metadata": {},
     "output_type": "execute_result"
    },
    {
     "data": {
      "image/png": "[encoded data removed]",
      "text/plain": [
       "<Figure size 864x576 with 1 Axes>"
      ]
     },
     "metadata": {
      "needs_background": "light"
     },
     "output_type": "display_data"
    }
   ],
   "source": [
    "plt.figure(figsize=(12, 8))\n",
    "sns.distplot(data['distance'])\n",
    "plt.xlabel('distance')\n",
    "plt.title('Distribution of distance')"
   ]
  },
  {
   "cell_type": "markdown",
   "id": "80d7ce5d",
   "metadata": {},
   "source": [
    "We have to remove the potential outliers from distance and trip duration. Here, wehave chosen the trip duration part normally greater than 10 seconds and less than 0.5day."
   ]
  },
  {
   "cell_type": "markdown",
   "id": "3462e8c8",
   "metadata": {},
   "source": [
    "## Removing Outliers"
   ]
  },
  {
   "cell_type": "code",
   "execution_count": 27,
   "id": "0268bdee",
   "metadata": {},
   "outputs": [],
   "source": [
    "# Removing potential distance outlier\n",
    "\n",
    "data = data[(data['distance'] < data['distance'].quantile(0.95)) & (data['distance'] > data['distance'].quantile(0.05))]\n",
    "\n",
    "# Removing potential trip duration outlier\n",
    "\n",
    "data = data[(data['trip_duration'] < 3*3600) & (data['trip_duration'] > 10)]\n",
    "data = data[(data['trip_duration'] < data['trip_duration'].quantile(0.95)) & (data['trip_duration'] > data['trip_duration'].quantile(0.05))]\n"
   ]
  },
  {
   "cell_type": "code",
   "execution_count": 28,
   "id": "ca7024bf",
   "metadata": {},
   "outputs": [],
   "source": [
    "data.drop(['id'] , axis = 1 , inplace = True)"
   ]
  },
  {
   "cell_type": "code",
   "execution_count": 29,
   "id": "b7f1b3b9",
   "metadata": {},
   "outputs": [],
   "source": [
    "# Converting all the categorical variables to numerical\n",
    "    \n",
    "dummy = pd.get_dummies(data.store_and_fwd_flag, prefix = 'flag')\n",
    "data = pd.concat([data, dummy], axis =1)\n",
    "\n",
    "dummy = pd.get_dummies(data.vendor_id, prefix = 'vendor_id')\n",
    "data = pd.concat([data, dummy], axis =1)\n",
    "\n",
    "dummy = pd.get_dummies(data.month, prefix = 'month')\n",
    "data = pd.concat([data, dummy], axis = 1)\n",
    "\n",
    "dummy = pd.get_dummies(data.day_number, prefix = 'day_number')\n",
    "data = pd.concat([data,dummy], axis = 1)\n",
    "\n",
    "dummy = pd.get_dummies(data.pickup_hour, prefix = 'pickup_hour')\n",
    "data = pd.concat([data, dummy], axis = 1)"
   ]
  },
  {
   "cell_type": "code",
   "execution_count": 30,
   "id": "6ae520f8",
   "metadata": {},
   "outputs": [],
   "source": [
    "pd.set_option('display.max_columns', None)"
   ]
  },
  {
   "cell_type": "code",
   "execution_count": 31,
   "id": "33b33783",
   "metadata": {},
   "outputs": [
    {
     "data": {
      "text/html": [
       "<div>\n",
       "<style scoped>\n",
       "    .dataframe tbody tr th:only-of-type {\n",
       "        vertical-align: middle;\n",
       "    }\n",
       "\n",
       "    .dataframe tbody tr th {\n",
       "        vertical-align: top;\n",
       "    }\n",
       "\n",
       "    .dataframe thead th {\n",
       "        text-align: right;\n",
       "    }\n",
       "</style>\n",
       "<table border=\"1\" class=\"dataframe\">\n",
       "  <thead>\n",
       "    <tr style=\"text-align: right;\">\n",
       "      <th></th>\n",
       "      <th>vendor_id</th>\n",
       "      <th>pickup_datetime</th>\n",
       "      <th>dropoff_datetime</th>\n",
       "      <th>passenger_count</th>\n",
       "      <th>pickup_longitude</th>\n",
       "      <th>pickup_latitude</th>\n",
       "      <th>dropoff_longitude</th>\n",
       "      <th>dropoff_latitude</th>\n",
       "      <th>store_and_fwd_flag</th>\n",
       "      <th>trip_duration</th>\n",
       "      <th>day_name</th>\n",
       "      <th>month</th>\n",
       "      <th>day_number</th>\n",
       "      <th>pickup_hour</th>\n",
       "      <th>distance</th>\n",
       "      <th>speed</th>\n",
       "      <th>flag_N</th>\n",
       "      <th>flag_Y</th>\n",
       "      <th>vendor_id_1</th>\n",
       "      <th>vendor_id_2</th>\n",
       "      <th>month_1</th>\n",
       "      <th>month_2</th>\n",
       "      <th>month_3</th>\n",
       "      <th>month_4</th>\n",
       "      <th>month_5</th>\n",
       "      <th>month_6</th>\n",
       "      <th>day_number_0</th>\n",
       "      <th>day_number_1</th>\n",
       "      <th>day_number_2</th>\n",
       "      <th>day_number_3</th>\n",
       "      <th>day_number_4</th>\n",
       "      <th>day_number_5</th>\n",
       "      <th>day_number_6</th>\n",
       "      <th>pickup_hour_0</th>\n",
       "      <th>pickup_hour_1</th>\n",
       "      <th>pickup_hour_2</th>\n",
       "      <th>pickup_hour_3</th>\n",
       "      <th>pickup_hour_4</th>\n",
       "      <th>pickup_hour_5</th>\n",
       "      <th>pickup_hour_6</th>\n",
       "      <th>pickup_hour_7</th>\n",
       "      <th>pickup_hour_8</th>\n",
       "      <th>pickup_hour_9</th>\n",
       "      <th>pickup_hour_10</th>\n",
       "      <th>pickup_hour_11</th>\n",
       "      <th>pickup_hour_12</th>\n",
       "      <th>pickup_hour_13</th>\n",
       "      <th>pickup_hour_14</th>\n",
       "      <th>pickup_hour_15</th>\n",
       "      <th>pickup_hour_16</th>\n",
       "      <th>pickup_hour_17</th>\n",
       "      <th>pickup_hour_18</th>\n",
       "      <th>pickup_hour_19</th>\n",
       "      <th>pickup_hour_20</th>\n",
       "      <th>pickup_hour_21</th>\n",
       "      <th>pickup_hour_22</th>\n",
       "      <th>pickup_hour_23</th>\n",
       "    </tr>\n",
       "  </thead>\n",
       "  <tbody>\n",
       "    <tr>\n",
       "      <th>0</th>\n",
       "      <td>2</td>\n",
       "      <td>2016-02-29 16:40:21</td>\n",
       "      <td>2016-02-29 16:47:01</td>\n",
       "      <td>1</td>\n",
       "      <td>-73.953918</td>\n",
       "      <td>40.778873</td>\n",
       "      <td>-73.963875</td>\n",
       "      <td>40.771164</td>\n",
       "      <td>N</td>\n",
       "      <td>400</td>\n",
       "      <td>&lt;bound method PandasDelegate._add_delegate_acc...</td>\n",
       "      <td>2</td>\n",
       "      <td>0</td>\n",
       "      <td>16</td>\n",
       "      <td>1.199770</td>\n",
       "      <td>10.797929</td>\n",
       "      <td>1</td>\n",
       "      <td>0</td>\n",
       "      <td>0</td>\n",
       "      <td>1</td>\n",
       "      <td>0</td>\n",
       "      <td>1</td>\n",
       "      <td>0</td>\n",
       "      <td>0</td>\n",
       "      <td>0</td>\n",
       "      <td>0</td>\n",
       "      <td>1</td>\n",
       "      <td>0</td>\n",
       "      <td>0</td>\n",
       "      <td>0</td>\n",
       "      <td>0</td>\n",
       "      <td>0</td>\n",
       "      <td>0</td>\n",
       "      <td>0</td>\n",
       "      <td>0</td>\n",
       "      <td>0</td>\n",
       "      <td>0</td>\n",
       "      <td>0</td>\n",
       "      <td>0</td>\n",
       "      <td>0</td>\n",
       "      <td>0</td>\n",
       "      <td>0</td>\n",
       "      <td>0</td>\n",
       "      <td>0</td>\n",
       "      <td>0</td>\n",
       "      <td>0</td>\n",
       "      <td>0</td>\n",
       "      <td>0</td>\n",
       "      <td>0</td>\n",
       "      <td>1</td>\n",
       "      <td>0</td>\n",
       "      <td>0</td>\n",
       "      <td>0</td>\n",
       "      <td>0</td>\n",
       "      <td>0</td>\n",
       "      <td>0</td>\n",
       "      <td>0</td>\n",
       "    </tr>\n",
       "    <tr>\n",
       "      <th>1</th>\n",
       "      <td>1</td>\n",
       "      <td>2016-03-11 23:35:37</td>\n",
       "      <td>2016-03-11 23:53:57</td>\n",
       "      <td>2</td>\n",
       "      <td>-73.988312</td>\n",
       "      <td>40.731743</td>\n",
       "      <td>-73.994751</td>\n",
       "      <td>40.694931</td>\n",
       "      <td>N</td>\n",
       "      <td>1100</td>\n",
       "      <td>&lt;bound method PandasDelegate._add_delegate_acc...</td>\n",
       "      <td>3</td>\n",
       "      <td>4</td>\n",
       "      <td>23</td>\n",
       "      <td>4.123945</td>\n",
       "      <td>13.496548</td>\n",
       "      <td>1</td>\n",
       "      <td>0</td>\n",
       "      <td>1</td>\n",
       "      <td>0</td>\n",
       "      <td>0</td>\n",
       "      <td>0</td>\n",
       "      <td>1</td>\n",
       "      <td>0</td>\n",
       "      <td>0</td>\n",
       "      <td>0</td>\n",
       "      <td>0</td>\n",
       "      <td>0</td>\n",
       "      <td>0</td>\n",
       "      <td>0</td>\n",
       "      <td>1</td>\n",
       "      <td>0</td>\n",
       "      <td>0</td>\n",
       "      <td>0</td>\n",
       "      <td>0</td>\n",
       "      <td>0</td>\n",
       "      <td>0</td>\n",
       "      <td>0</td>\n",
       "      <td>0</td>\n",
       "      <td>0</td>\n",
       "      <td>0</td>\n",
       "      <td>0</td>\n",
       "      <td>0</td>\n",
       "      <td>0</td>\n",
       "      <td>0</td>\n",
       "      <td>0</td>\n",
       "      <td>0</td>\n",
       "      <td>0</td>\n",
       "      <td>0</td>\n",
       "      <td>0</td>\n",
       "      <td>0</td>\n",
       "      <td>0</td>\n",
       "      <td>0</td>\n",
       "      <td>0</td>\n",
       "      <td>0</td>\n",
       "      <td>0</td>\n",
       "      <td>1</td>\n",
       "    </tr>\n",
       "    <tr>\n",
       "      <th>2</th>\n",
       "      <td>2</td>\n",
       "      <td>2016-02-21 17:59:33</td>\n",
       "      <td>2016-02-21 18:26:48</td>\n",
       "      <td>2</td>\n",
       "      <td>-73.997314</td>\n",
       "      <td>40.721458</td>\n",
       "      <td>-73.948029</td>\n",
       "      <td>40.774918</td>\n",
       "      <td>N</td>\n",
       "      <td>1635</td>\n",
       "      <td>&lt;bound method PandasDelegate._add_delegate_acc...</td>\n",
       "      <td>2</td>\n",
       "      <td>6</td>\n",
       "      <td>17</td>\n",
       "      <td>7.250436</td>\n",
       "      <td>15.964262</td>\n",
       "      <td>1</td>\n",
       "      <td>0</td>\n",
       "      <td>0</td>\n",
       "      <td>1</td>\n",
       "      <td>0</td>\n",
       "      <td>1</td>\n",
       "      <td>0</td>\n",
       "      <td>0</td>\n",
       "      <td>0</td>\n",
       "      <td>0</td>\n",
       "      <td>0</td>\n",
       "      <td>0</td>\n",
       "      <td>0</td>\n",
       "      <td>0</td>\n",
       "      <td>0</td>\n",
       "      <td>0</td>\n",
       "      <td>1</td>\n",
       "      <td>0</td>\n",
       "      <td>0</td>\n",
       "      <td>0</td>\n",
       "      <td>0</td>\n",
       "      <td>0</td>\n",
       "      <td>0</td>\n",
       "      <td>0</td>\n",
       "      <td>0</td>\n",
       "      <td>0</td>\n",
       "      <td>0</td>\n",
       "      <td>0</td>\n",
       "      <td>0</td>\n",
       "      <td>0</td>\n",
       "      <td>0</td>\n",
       "      <td>0</td>\n",
       "      <td>0</td>\n",
       "      <td>0</td>\n",
       "      <td>1</td>\n",
       "      <td>0</td>\n",
       "      <td>0</td>\n",
       "      <td>0</td>\n",
       "      <td>0</td>\n",
       "      <td>0</td>\n",
       "      <td>0</td>\n",
       "    </tr>\n",
       "    <tr>\n",
       "      <th>3</th>\n",
       "      <td>2</td>\n",
       "      <td>2016-01-05 09:44:31</td>\n",
       "      <td>2016-01-05 10:03:32</td>\n",
       "      <td>6</td>\n",
       "      <td>-73.961670</td>\n",
       "      <td>40.759720</td>\n",
       "      <td>-73.956779</td>\n",
       "      <td>40.780628</td>\n",
       "      <td>N</td>\n",
       "      <td>1141</td>\n",
       "      <td>&lt;bound method PandasDelegate._add_delegate_acc...</td>\n",
       "      <td>1</td>\n",
       "      <td>1</td>\n",
       "      <td>9</td>\n",
       "      <td>2.358287</td>\n",
       "      <td>7.440694</td>\n",
       "      <td>1</td>\n",
       "      <td>0</td>\n",
       "      <td>0</td>\n",
       "      <td>1</td>\n",
       "      <td>1</td>\n",
       "      <td>0</td>\n",
       "      <td>0</td>\n",
       "      <td>0</td>\n",
       "      <td>0</td>\n",
       "      <td>0</td>\n",
       "      <td>0</td>\n",
       "      <td>1</td>\n",
       "      <td>0</td>\n",
       "      <td>0</td>\n",
       "      <td>0</td>\n",
       "      <td>0</td>\n",
       "      <td>0</td>\n",
       "      <td>0</td>\n",
       "      <td>0</td>\n",
       "      <td>0</td>\n",
       "      <td>0</td>\n",
       "      <td>0</td>\n",
       "      <td>0</td>\n",
       "      <td>0</td>\n",
       "      <td>0</td>\n",
       "      <td>0</td>\n",
       "      <td>1</td>\n",
       "      <td>0</td>\n",
       "      <td>0</td>\n",
       "      <td>0</td>\n",
       "      <td>0</td>\n",
       "      <td>0</td>\n",
       "      <td>0</td>\n",
       "      <td>0</td>\n",
       "      <td>0</td>\n",
       "      <td>0</td>\n",
       "      <td>0</td>\n",
       "      <td>0</td>\n",
       "      <td>0</td>\n",
       "      <td>0</td>\n",
       "      <td>0</td>\n",
       "    </tr>\n",
       "    <tr>\n",
       "      <th>4</th>\n",
       "      <td>1</td>\n",
       "      <td>2016-02-17 06:42:23</td>\n",
       "      <td>2016-02-17 06:56:31</td>\n",
       "      <td>1</td>\n",
       "      <td>-74.017120</td>\n",
       "      <td>40.708469</td>\n",
       "      <td>-73.988182</td>\n",
       "      <td>40.740631</td>\n",
       "      <td>N</td>\n",
       "      <td>848</td>\n",
       "      <td>&lt;bound method PandasDelegate._add_delegate_acc...</td>\n",
       "      <td>2</td>\n",
       "      <td>2</td>\n",
       "      <td>6</td>\n",
       "      <td>4.328155</td>\n",
       "      <td>18.374244</td>\n",
       "      <td>1</td>\n",
       "      <td>0</td>\n",
       "      <td>1</td>\n",
       "      <td>0</td>\n",
       "      <td>0</td>\n",
       "      <td>1</td>\n",
       "      <td>0</td>\n",
       "      <td>0</td>\n",
       "      <td>0</td>\n",
       "      <td>0</td>\n",
       "      <td>0</td>\n",
       "      <td>0</td>\n",
       "      <td>1</td>\n",
       "      <td>0</td>\n",
       "      <td>0</td>\n",
       "      <td>0</td>\n",
       "      <td>0</td>\n",
       "      <td>0</td>\n",
       "      <td>0</td>\n",
       "      <td>0</td>\n",
       "      <td>0</td>\n",
       "      <td>0</td>\n",
       "      <td>0</td>\n",
       "      <td>1</td>\n",
       "      <td>0</td>\n",
       "      <td>0</td>\n",
       "      <td>0</td>\n",
       "      <td>0</td>\n",
       "      <td>0</td>\n",
       "      <td>0</td>\n",
       "      <td>0</td>\n",
       "      <td>0</td>\n",
       "      <td>0</td>\n",
       "      <td>0</td>\n",
       "      <td>0</td>\n",
       "      <td>0</td>\n",
       "      <td>0</td>\n",
       "      <td>0</td>\n",
       "      <td>0</td>\n",
       "      <td>0</td>\n",
       "      <td>0</td>\n",
       "    </tr>\n",
       "  </tbody>\n",
       "</table>\n",
       "</div>"
      ],
      "text/plain": [
       "   vendor_id     pickup_datetime    dropoff_datetime  passenger_count  \\\n",
       "0          2 2016-02-29 16:40:21 2016-02-29 16:47:01                1   \n",
       "1          1 2016-03-11 23:35:37 2016-03-11 23:53:57                2   \n",
       "2          2 2016-02-21 17:59:33 2016-02-21 18:26:48                2   \n",
       "3          2 2016-01-05 09:44:31 2016-01-05 10:03:32                6   \n",
       "4          1 2016-02-17 06:42:23 2016-02-17 06:56:31                1   \n",
       "\n",
       "   pickup_longitude  pickup_latitude  dropoff_longitude  dropoff_latitude  \\\n",
       "0        -73.953918        40.778873         -73.963875         40.771164   \n",
       "1        -73.988312        40.731743         -73.994751         40.694931   \n",
       "2        -73.997314        40.721458         -73.948029         40.774918   \n",
       "3        -73.961670        40.759720         -73.956779         40.780628   \n",
       "4        -74.017120        40.708469         -73.988182         40.740631   \n",
       "\n",
       "  store_and_fwd_flag  trip_duration  \\\n",
       "0                  N            400   \n",
       "1                  N           1100   \n",
       "2                  N           1635   \n",
       "3                  N           1141   \n",
       "4                  N            848   \n",
       "\n",
       "                                            day_name month day_number  \\\n",
       "0  <bound method PandasDelegate._add_delegate_acc...     2          0   \n",
       "1  <bound method PandasDelegate._add_delegate_acc...     3          4   \n",
       "2  <bound method PandasDelegate._add_delegate_acc...     2          6   \n",
       "3  <bound method PandasDelegate._add_delegate_acc...     1          1   \n",
       "4  <bound method PandasDelegate._add_delegate_acc...     2          2   \n",
       "\n",
       "  pickup_hour  distance      speed  flag_N  flag_Y  vendor_id_1  vendor_id_2  \\\n",
       "0          16  1.199770  10.797929       1       0            0            1   \n",
       "1          23  4.123945  13.496548       1       0            1            0   \n",
       "2          17  7.250436  15.964262       1       0            0            1   \n",
       "3           9  2.358287   7.440694       1       0            0            1   \n",
       "4           6  4.328155  18.374244       1       0            1            0   \n",
       "\n",
       "   month_1  month_2  month_3  month_4  month_5  month_6  day_number_0  \\\n",
       "0        0        1        0        0        0        0             1   \n",
       "1        0        0        1        0        0        0             0   \n",
       "2        0        1        0        0        0        0             0   \n",
       "3        1        0        0        0        0        0             0   \n",
       "4        0        1        0        0        0        0             0   \n",
       "\n",
       "   day_number_1  day_number_2  day_number_3  day_number_4  day_number_5  \\\n",
       "0             0             0             0             0             0   \n",
       "1             0             0             0             1             0   \n",
       "2             0             0             0             0             0   \n",
       "3             1             0             0             0             0   \n",
       "4             0             1             0             0             0   \n",
       "\n",
       "   day_number_6  pickup_hour_0  pickup_hour_1  pickup_hour_2  pickup_hour_3  \\\n",
       "0             0              0              0              0              0   \n",
       "1             0              0              0              0              0   \n",
       "2             1              0              0              0              0   \n",
       "3             0              0              0              0              0   \n",
       "4             0              0              0              0              0   \n",
       "\n",
       "   pickup_hour_4  pickup_hour_5  pickup_hour_6  pickup_hour_7  pickup_hour_8  \\\n",
       "0              0              0              0              0              0   \n",
       "1              0              0              0              0              0   \n",
       "2              0              0              0              0              0   \n",
       "3              0              0              0              0              0   \n",
       "4              0              0              1              0              0   \n",
       "\n",
       "   pickup_hour_9  pickup_hour_10  pickup_hour_11  pickup_hour_12  \\\n",
       "0              0               0               0               0   \n",
       "1              0               0               0               0   \n",
       "2              0               0               0               0   \n",
       "3              1               0               0               0   \n",
       "4              0               0               0               0   \n",
       "\n",
       "   pickup_hour_13  pickup_hour_14  pickup_hour_15  pickup_hour_16  \\\n",
       "0               0               0               0               1   \n",
       "1               0               0               0               0   \n",
       "2               0               0               0               0   \n",
       "3               0               0               0               0   \n",
       "4               0               0               0               0   \n",
       "\n",
       "   pickup_hour_17  pickup_hour_18  pickup_hour_19  pickup_hour_20  \\\n",
       "0               0               0               0               0   \n",
       "1               0               0               0               0   \n",
       "2               1               0               0               0   \n",
       "3               0               0               0               0   \n",
       "4               0               0               0               0   \n",
       "\n",
       "   pickup_hour_21  pickup_hour_22  pickup_hour_23  \n",
       "0               0               0               0  \n",
       "1               0               0               1  \n",
       "2               0               0               0  \n",
       "3               0               0               0  \n",
       "4               0               0               0  "
      ]
     },
     "execution_count": 31,
     "metadata": {},
     "output_type": "execute_result"
    }
   ],
   "source": [
    "data.head()"
   ]
  },
  {
   "cell_type": "code",
   "execution_count": 32,
   "id": "3c168485",
   "metadata": {},
   "outputs": [
    {
     "data": {
      "text/plain": [
       "Index(['vendor_id', 'pickup_datetime', 'dropoff_datetime', 'passenger_count',\n",
       "       'pickup_longitude', 'pickup_latitude', 'dropoff_longitude',\n",
       "       'dropoff_latitude', 'store_and_fwd_flag', 'trip_duration', 'day_name',\n",
       "       'month', 'day_number', 'pickup_hour', 'distance', 'speed', 'flag_N',\n",
       "       'flag_Y', 'vendor_id_1', 'vendor_id_2', 'month_1', 'month_2', 'month_3',\n",
       "       'month_4', 'month_5', 'month_6', 'day_number_0', 'day_number_1',\n",
       "       'day_number_2', 'day_number_3', 'day_number_4', 'day_number_5',\n",
       "       'day_number_6', 'pickup_hour_0', 'pickup_hour_1', 'pickup_hour_2',\n",
       "       'pickup_hour_3', 'pickup_hour_4', 'pickup_hour_5', 'pickup_hour_6',\n",
       "       'pickup_hour_7', 'pickup_hour_8', 'pickup_hour_9', 'pickup_hour_10',\n",
       "       'pickup_hour_11', 'pickup_hour_12', 'pickup_hour_13', 'pickup_hour_14',\n",
       "       'pickup_hour_15', 'pickup_hour_16', 'pickup_hour_17', 'pickup_hour_18',\n",
       "       'pickup_hour_19', 'pickup_hour_20', 'pickup_hour_21', 'pickup_hour_22',\n",
       "       'pickup_hour_23'],\n",
       "      dtype='object')"
      ]
     },
     "execution_count": 32,
     "metadata": {},
     "output_type": "execute_result"
    }
   ],
   "source": [
    "data.columns"
   ]
  },
  {
   "cell_type": "code",
   "execution_count": 33,
   "id": "6a5c29a9",
   "metadata": {},
   "outputs": [
    {
     "data": {
      "text/plain": [
       "(589827, 57)"
      ]
     },
     "execution_count": 33,
     "metadata": {},
     "output_type": "execute_result"
    }
   ],
   "source": [
    "data.shape"
   ]
  },
  {
   "cell_type": "code",
   "execution_count": 34,
   "id": "d379906c",
   "metadata": {},
   "outputs": [
    {
     "data": {
      "text/plain": [
       "vendor_id                      int64\n",
       "pickup_datetime       datetime64[ns]\n",
       "dropoff_datetime      datetime64[ns]\n",
       "passenger_count                int64\n",
       "pickup_longitude             float64\n",
       "pickup_latitude              float64\n",
       "dropoff_longitude            float64\n",
       "dropoff_latitude             float64\n",
       "store_and_fwd_flag            object\n",
       "trip_duration                  int64\n",
       "day_name                      object\n",
       "month                       category\n",
       "day_number                  category\n",
       "pickup_hour                 category\n",
       "distance                     float64\n",
       "speed                        float64\n",
       "flag_N                         uint8\n",
       "flag_Y                         uint8\n",
       "vendor_id_1                    uint8\n",
       "vendor_id_2                    uint8\n",
       "month_1                        uint8\n",
       "month_2                        uint8\n",
       "month_3                        uint8\n",
       "month_4                        uint8\n",
       "month_5                        uint8\n",
       "month_6                        uint8\n",
       "day_number_0                   uint8\n",
       "day_number_1                   uint8\n",
       "day_number_2                   uint8\n",
       "day_number_3                   uint8\n",
       "day_number_4                   uint8\n",
       "day_number_5                   uint8\n",
       "day_number_6                   uint8\n",
       "pickup_hour_0                  uint8\n",
       "pickup_hour_1                  uint8\n",
       "pickup_hour_2                  uint8\n",
       "pickup_hour_3                  uint8\n",
       "pickup_hour_4                  uint8\n",
       "pickup_hour_5                  uint8\n",
       "pickup_hour_6                  uint8\n",
       "pickup_hour_7                  uint8\n",
       "pickup_hour_8                  uint8\n",
       "pickup_hour_9                  uint8\n",
       "pickup_hour_10                 uint8\n",
       "pickup_hour_11                 uint8\n",
       "pickup_hour_12                 uint8\n",
       "pickup_hour_13                 uint8\n",
       "pickup_hour_14                 uint8\n",
       "pickup_hour_15                 uint8\n",
       "pickup_hour_16                 uint8\n",
       "pickup_hour_17                 uint8\n",
       "pickup_hour_18                 uint8\n",
       "pickup_hour_19                 uint8\n",
       "pickup_hour_20                 uint8\n",
       "pickup_hour_21                 uint8\n",
       "pickup_hour_22                 uint8\n",
       "pickup_hour_23                 uint8\n",
       "dtype: object"
      ]
     },
     "execution_count": 34,
     "metadata": {},
     "output_type": "execute_result"
    }
   ],
   "source": [
    "data.dtypes"
   ]
  },
  {
   "cell_type": "code",
   "execution_count": 35,
   "id": "a0ba28cd",
   "metadata": {},
   "outputs": [
    {
     "data": {
      "text/html": [
       "<div>\n",
       "<style scoped>\n",
       "    .dataframe tbody tr th:only-of-type {\n",
       "        vertical-align: middle;\n",
       "    }\n",
       "\n",
       "    .dataframe tbody tr th {\n",
       "        vertical-align: top;\n",
       "    }\n",
       "\n",
       "    .dataframe thead th {\n",
       "        text-align: right;\n",
       "    }\n",
       "</style>\n",
       "<table border=\"1\" class=\"dataframe\">\n",
       "  <thead>\n",
       "    <tr style=\"text-align: right;\">\n",
       "      <th></th>\n",
       "      <th>vendor_id</th>\n",
       "      <th>pickup_datetime</th>\n",
       "      <th>dropoff_datetime</th>\n",
       "      <th>passenger_count</th>\n",
       "      <th>pickup_longitude</th>\n",
       "      <th>pickup_latitude</th>\n",
       "      <th>dropoff_longitude</th>\n",
       "      <th>dropoff_latitude</th>\n",
       "      <th>store_and_fwd_flag</th>\n",
       "      <th>trip_duration</th>\n",
       "      <th>day_name</th>\n",
       "      <th>month</th>\n",
       "      <th>day_number</th>\n",
       "      <th>pickup_hour</th>\n",
       "      <th>distance</th>\n",
       "      <th>speed</th>\n",
       "      <th>flag_N</th>\n",
       "      <th>flag_Y</th>\n",
       "      <th>vendor_id_1</th>\n",
       "      <th>vendor_id_2</th>\n",
       "      <th>month_1</th>\n",
       "      <th>month_2</th>\n",
       "      <th>month_3</th>\n",
       "      <th>month_4</th>\n",
       "      <th>month_5</th>\n",
       "      <th>month_6</th>\n",
       "      <th>day_number_0</th>\n",
       "      <th>day_number_1</th>\n",
       "      <th>day_number_2</th>\n",
       "      <th>day_number_3</th>\n",
       "      <th>day_number_4</th>\n",
       "      <th>day_number_5</th>\n",
       "      <th>day_number_6</th>\n",
       "      <th>pickup_hour_0</th>\n",
       "      <th>pickup_hour_1</th>\n",
       "      <th>pickup_hour_2</th>\n",
       "      <th>pickup_hour_3</th>\n",
       "      <th>pickup_hour_4</th>\n",
       "      <th>pickup_hour_5</th>\n",
       "      <th>pickup_hour_6</th>\n",
       "      <th>pickup_hour_7</th>\n",
       "      <th>pickup_hour_8</th>\n",
       "      <th>pickup_hour_9</th>\n",
       "      <th>pickup_hour_10</th>\n",
       "      <th>pickup_hour_11</th>\n",
       "      <th>pickup_hour_12</th>\n",
       "      <th>pickup_hour_13</th>\n",
       "      <th>pickup_hour_14</th>\n",
       "      <th>pickup_hour_15</th>\n",
       "      <th>pickup_hour_16</th>\n",
       "      <th>pickup_hour_17</th>\n",
       "      <th>pickup_hour_18</th>\n",
       "      <th>pickup_hour_19</th>\n",
       "      <th>pickup_hour_20</th>\n",
       "      <th>pickup_hour_21</th>\n",
       "      <th>pickup_hour_22</th>\n",
       "      <th>pickup_hour_23</th>\n",
       "    </tr>\n",
       "  </thead>\n",
       "  <tbody>\n",
       "    <tr>\n",
       "      <th>0</th>\n",
       "      <td>2</td>\n",
       "      <td>2016-02-29 16:40:21</td>\n",
       "      <td>2016-02-29 16:47:01</td>\n",
       "      <td>1</td>\n",
       "      <td>-73.953918</td>\n",
       "      <td>40.778873</td>\n",
       "      <td>-73.963875</td>\n",
       "      <td>40.771164</td>\n",
       "      <td>N</td>\n",
       "      <td>400</td>\n",
       "      <td>&lt;bound method PandasDelegate._add_delegate_acc...</td>\n",
       "      <td>2</td>\n",
       "      <td>0</td>\n",
       "      <td>16</td>\n",
       "      <td>1.199770</td>\n",
       "      <td>10.797929</td>\n",
       "      <td>1</td>\n",
       "      <td>0</td>\n",
       "      <td>0</td>\n",
       "      <td>1</td>\n",
       "      <td>0</td>\n",
       "      <td>1</td>\n",
       "      <td>0</td>\n",
       "      <td>0</td>\n",
       "      <td>0</td>\n",
       "      <td>0</td>\n",
       "      <td>1</td>\n",
       "      <td>0</td>\n",
       "      <td>0</td>\n",
       "      <td>0</td>\n",
       "      <td>0</td>\n",
       "      <td>0</td>\n",
       "      <td>0</td>\n",
       "      <td>0</td>\n",
       "      <td>0</td>\n",
       "      <td>0</td>\n",
       "      <td>0</td>\n",
       "      <td>0</td>\n",
       "      <td>0</td>\n",
       "      <td>0</td>\n",
       "      <td>0</td>\n",
       "      <td>0</td>\n",
       "      <td>0</td>\n",
       "      <td>0</td>\n",
       "      <td>0</td>\n",
       "      <td>0</td>\n",
       "      <td>0</td>\n",
       "      <td>0</td>\n",
       "      <td>0</td>\n",
       "      <td>1</td>\n",
       "      <td>0</td>\n",
       "      <td>0</td>\n",
       "      <td>0</td>\n",
       "      <td>0</td>\n",
       "      <td>0</td>\n",
       "      <td>0</td>\n",
       "      <td>0</td>\n",
       "    </tr>\n",
       "    <tr>\n",
       "      <th>1</th>\n",
       "      <td>1</td>\n",
       "      <td>2016-03-11 23:35:37</td>\n",
       "      <td>2016-03-11 23:53:57</td>\n",
       "      <td>2</td>\n",
       "      <td>-73.988312</td>\n",
       "      <td>40.731743</td>\n",
       "      <td>-73.994751</td>\n",
       "      <td>40.694931</td>\n",
       "      <td>N</td>\n",
       "      <td>1100</td>\n",
       "      <td>&lt;bound method PandasDelegate._add_delegate_acc...</td>\n",
       "      <td>3</td>\n",
       "      <td>4</td>\n",
       "      <td>23</td>\n",
       "      <td>4.123945</td>\n",
       "      <td>13.496548</td>\n",
       "      <td>1</td>\n",
       "      <td>0</td>\n",
       "      <td>1</td>\n",
       "      <td>0</td>\n",
       "      <td>0</td>\n",
       "      <td>0</td>\n",
       "      <td>1</td>\n",
       "      <td>0</td>\n",
       "      <td>0</td>\n",
       "      <td>0</td>\n",
       "      <td>0</td>\n",
       "      <td>0</td>\n",
       "      <td>0</td>\n",
       "      <td>0</td>\n",
       "      <td>1</td>\n",
       "      <td>0</td>\n",
       "      <td>0</td>\n",
       "      <td>0</td>\n",
       "      <td>0</td>\n",
       "      <td>0</td>\n",
       "      <td>0</td>\n",
       "      <td>0</td>\n",
       "      <td>0</td>\n",
       "      <td>0</td>\n",
       "      <td>0</td>\n",
       "      <td>0</td>\n",
       "      <td>0</td>\n",
       "      <td>0</td>\n",
       "      <td>0</td>\n",
       "      <td>0</td>\n",
       "      <td>0</td>\n",
       "      <td>0</td>\n",
       "      <td>0</td>\n",
       "      <td>0</td>\n",
       "      <td>0</td>\n",
       "      <td>0</td>\n",
       "      <td>0</td>\n",
       "      <td>0</td>\n",
       "      <td>0</td>\n",
       "      <td>0</td>\n",
       "      <td>1</td>\n",
       "    </tr>\n",
       "    <tr>\n",
       "      <th>2</th>\n",
       "      <td>2</td>\n",
       "      <td>2016-02-21 17:59:33</td>\n",
       "      <td>2016-02-21 18:26:48</td>\n",
       "      <td>2</td>\n",
       "      <td>-73.997314</td>\n",
       "      <td>40.721458</td>\n",
       "      <td>-73.948029</td>\n",
       "      <td>40.774918</td>\n",
       "      <td>N</td>\n",
       "      <td>1635</td>\n",
       "      <td>&lt;bound method PandasDelegate._add_delegate_acc...</td>\n",
       "      <td>2</td>\n",
       "      <td>6</td>\n",
       "      <td>17</td>\n",
       "      <td>7.250436</td>\n",
       "      <td>15.964262</td>\n",
       "      <td>1</td>\n",
       "      <td>0</td>\n",
       "      <td>0</td>\n",
       "      <td>1</td>\n",
       "      <td>0</td>\n",
       "      <td>1</td>\n",
       "      <td>0</td>\n",
       "      <td>0</td>\n",
       "      <td>0</td>\n",
       "      <td>0</td>\n",
       "      <td>0</td>\n",
       "      <td>0</td>\n",
       "      <td>0</td>\n",
       "      <td>0</td>\n",
       "      <td>0</td>\n",
       "      <td>0</td>\n",
       "      <td>1</td>\n",
       "      <td>0</td>\n",
       "      <td>0</td>\n",
       "      <td>0</td>\n",
       "      <td>0</td>\n",
       "      <td>0</td>\n",
       "      <td>0</td>\n",
       "      <td>0</td>\n",
       "      <td>0</td>\n",
       "      <td>0</td>\n",
       "      <td>0</td>\n",
       "      <td>0</td>\n",
       "      <td>0</td>\n",
       "      <td>0</td>\n",
       "      <td>0</td>\n",
       "      <td>0</td>\n",
       "      <td>0</td>\n",
       "      <td>0</td>\n",
       "      <td>1</td>\n",
       "      <td>0</td>\n",
       "      <td>0</td>\n",
       "      <td>0</td>\n",
       "      <td>0</td>\n",
       "      <td>0</td>\n",
       "      <td>0</td>\n",
       "    </tr>\n",
       "    <tr>\n",
       "      <th>3</th>\n",
       "      <td>2</td>\n",
       "      <td>2016-01-05 09:44:31</td>\n",
       "      <td>2016-01-05 10:03:32</td>\n",
       "      <td>6</td>\n",
       "      <td>-73.961670</td>\n",
       "      <td>40.759720</td>\n",
       "      <td>-73.956779</td>\n",
       "      <td>40.780628</td>\n",
       "      <td>N</td>\n",
       "      <td>1141</td>\n",
       "      <td>&lt;bound method PandasDelegate._add_delegate_acc...</td>\n",
       "      <td>1</td>\n",
       "      <td>1</td>\n",
       "      <td>9</td>\n",
       "      <td>2.358287</td>\n",
       "      <td>7.440694</td>\n",
       "      <td>1</td>\n",
       "      <td>0</td>\n",
       "      <td>0</td>\n",
       "      <td>1</td>\n",
       "      <td>1</td>\n",
       "      <td>0</td>\n",
       "      <td>0</td>\n",
       "      <td>0</td>\n",
       "      <td>0</td>\n",
       "      <td>0</td>\n",
       "      <td>0</td>\n",
       "      <td>1</td>\n",
       "      <td>0</td>\n",
       "      <td>0</td>\n",
       "      <td>0</td>\n",
       "      <td>0</td>\n",
       "      <td>0</td>\n",
       "      <td>0</td>\n",
       "      <td>0</td>\n",
       "      <td>0</td>\n",
       "      <td>0</td>\n",
       "      <td>0</td>\n",
       "      <td>0</td>\n",
       "      <td>0</td>\n",
       "      <td>0</td>\n",
       "      <td>0</td>\n",
       "      <td>1</td>\n",
       "      <td>0</td>\n",
       "      <td>0</td>\n",
       "      <td>0</td>\n",
       "      <td>0</td>\n",
       "      <td>0</td>\n",
       "      <td>0</td>\n",
       "      <td>0</td>\n",
       "      <td>0</td>\n",
       "      <td>0</td>\n",
       "      <td>0</td>\n",
       "      <td>0</td>\n",
       "      <td>0</td>\n",
       "      <td>0</td>\n",
       "      <td>0</td>\n",
       "    </tr>\n",
       "    <tr>\n",
       "      <th>4</th>\n",
       "      <td>1</td>\n",
       "      <td>2016-02-17 06:42:23</td>\n",
       "      <td>2016-02-17 06:56:31</td>\n",
       "      <td>1</td>\n",
       "      <td>-74.017120</td>\n",
       "      <td>40.708469</td>\n",
       "      <td>-73.988182</td>\n",
       "      <td>40.740631</td>\n",
       "      <td>N</td>\n",
       "      <td>848</td>\n",
       "      <td>&lt;bound method PandasDelegate._add_delegate_acc...</td>\n",
       "      <td>2</td>\n",
       "      <td>2</td>\n",
       "      <td>6</td>\n",
       "      <td>4.328155</td>\n",
       "      <td>18.374244</td>\n",
       "      <td>1</td>\n",
       "      <td>0</td>\n",
       "      <td>1</td>\n",
       "      <td>0</td>\n",
       "      <td>0</td>\n",
       "      <td>1</td>\n",
       "      <td>0</td>\n",
       "      <td>0</td>\n",
       "      <td>0</td>\n",
       "      <td>0</td>\n",
       "      <td>0</td>\n",
       "      <td>0</td>\n",
       "      <td>1</td>\n",
       "      <td>0</td>\n",
       "      <td>0</td>\n",
       "      <td>0</td>\n",
       "      <td>0</td>\n",
       "      <td>0</td>\n",
       "      <td>0</td>\n",
       "      <td>0</td>\n",
       "      <td>0</td>\n",
       "      <td>0</td>\n",
       "      <td>0</td>\n",
       "      <td>1</td>\n",
       "      <td>0</td>\n",
       "      <td>0</td>\n",
       "      <td>0</td>\n",
       "      <td>0</td>\n",
       "      <td>0</td>\n",
       "      <td>0</td>\n",
       "      <td>0</td>\n",
       "      <td>0</td>\n",
       "      <td>0</td>\n",
       "      <td>0</td>\n",
       "      <td>0</td>\n",
       "      <td>0</td>\n",
       "      <td>0</td>\n",
       "      <td>0</td>\n",
       "      <td>0</td>\n",
       "      <td>0</td>\n",
       "      <td>0</td>\n",
       "    </tr>\n",
       "  </tbody>\n",
       "</table>\n",
       "</div>"
      ],
      "text/plain": [
       "   vendor_id     pickup_datetime    dropoff_datetime  passenger_count  \\\n",
       "0          2 2016-02-29 16:40:21 2016-02-29 16:47:01                1   \n",
       "1          1 2016-03-11 23:35:37 2016-03-11 23:53:57                2   \n",
       "2          2 2016-02-21 17:59:33 2016-02-21 18:26:48                2   \n",
       "3          2 2016-01-05 09:44:31 2016-01-05 10:03:32                6   \n",
       "4          1 2016-02-17 06:42:23 2016-02-17 06:56:31                1   \n",
       "\n",
       "   pickup_longitude  pickup_latitude  dropoff_longitude  dropoff_latitude  \\\n",
       "0        -73.953918        40.778873         -73.963875         40.771164   \n",
       "1        -73.988312        40.731743         -73.994751         40.694931   \n",
       "2        -73.997314        40.721458         -73.948029         40.774918   \n",
       "3        -73.961670        40.759720         -73.956779         40.780628   \n",
       "4        -74.017120        40.708469         -73.988182         40.740631   \n",
       "\n",
       "  store_and_fwd_flag  trip_duration  \\\n",
       "0                  N            400   \n",
       "1                  N           1100   \n",
       "2                  N           1635   \n",
       "3                  N           1141   \n",
       "4                  N            848   \n",
       "\n",
       "                                            day_name month day_number  \\\n",
       "0  <bound method PandasDelegate._add_delegate_acc...     2          0   \n",
       "1  <bound method PandasDelegate._add_delegate_acc...     3          4   \n",
       "2  <bound method PandasDelegate._add_delegate_acc...     2          6   \n",
       "3  <bound method PandasDelegate._add_delegate_acc...     1          1   \n",
       "4  <bound method PandasDelegate._add_delegate_acc...     2          2   \n",
       "\n",
       "  pickup_hour  distance      speed  flag_N  flag_Y  vendor_id_1  vendor_id_2  \\\n",
       "0          16  1.199770  10.797929       1       0            0            1   \n",
       "1          23  4.123945  13.496548       1       0            1            0   \n",
       "2          17  7.250436  15.964262       1       0            0            1   \n",
       "3           9  2.358287   7.440694       1       0            0            1   \n",
       "4           6  4.328155  18.374244       1       0            1            0   \n",
       "\n",
       "   month_1  month_2  month_3  month_4  month_5  month_6  day_number_0  \\\n",
       "0        0        1        0        0        0        0             1   \n",
       "1        0        0        1        0        0        0             0   \n",
       "2        0        1        0        0        0        0             0   \n",
       "3        1        0        0        0        0        0             0   \n",
       "4        0        1        0        0        0        0             0   \n",
       "\n",
       "   day_number_1  day_number_2  day_number_3  day_number_4  day_number_5  \\\n",
       "0             0             0             0             0             0   \n",
       "1             0             0             0             1             0   \n",
       "2             0             0             0             0             0   \n",
       "3             1             0             0             0             0   \n",
       "4             0             1             0             0             0   \n",
       "\n",
       "   day_number_6  pickup_hour_0  pickup_hour_1  pickup_hour_2  pickup_hour_3  \\\n",
       "0             0              0              0              0              0   \n",
       "1             0              0              0              0              0   \n",
       "2             1              0              0              0              0   \n",
       "3             0              0              0              0              0   \n",
       "4             0              0              0              0              0   \n",
       "\n",
       "   pickup_hour_4  pickup_hour_5  pickup_hour_6  pickup_hour_7  pickup_hour_8  \\\n",
       "0              0              0              0              0              0   \n",
       "1              0              0              0              0              0   \n",
       "2              0              0              0              0              0   \n",
       "3              0              0              0              0              0   \n",
       "4              0              0              1              0              0   \n",
       "\n",
       "   pickup_hour_9  pickup_hour_10  pickup_hour_11  pickup_hour_12  \\\n",
       "0              0               0               0               0   \n",
       "1              0               0               0               0   \n",
       "2              0               0               0               0   \n",
       "3              1               0               0               0   \n",
       "4              0               0               0               0   \n",
       "\n",
       "   pickup_hour_13  pickup_hour_14  pickup_hour_15  pickup_hour_16  \\\n",
       "0               0               0               0               1   \n",
       "1               0               0               0               0   \n",
       "2               0               0               0               0   \n",
       "3               0               0               0               0   \n",
       "4               0               0               0               0   \n",
       "\n",
       "   pickup_hour_17  pickup_hour_18  pickup_hour_19  pickup_hour_20  \\\n",
       "0               0               0               0               0   \n",
       "1               0               0               0               0   \n",
       "2               1               0               0               0   \n",
       "3               0               0               0               0   \n",
       "4               0               0               0               0   \n",
       "\n",
       "   pickup_hour_21  pickup_hour_22  pickup_hour_23  \n",
       "0               0               0               0  \n",
       "1               0               0               1  \n",
       "2               0               0               0  \n",
       "3               0               0               0  \n",
       "4               0               0               0  "
      ]
     },
     "execution_count": 35,
     "metadata": {},
     "output_type": "execute_result"
    }
   ],
   "source": [
    "data.head()"
   ]
  },
  {
   "cell_type": "code",
   "execution_count": 36,
   "id": "569d2bf1",
   "metadata": {},
   "outputs": [],
   "source": [
    "# Droping out the unwanted columns \n",
    "\n",
    "data.drop(['day_name','vendor_id' , 'pickup_datetime' , 'dropoff_datetime' , 'store_and_fwd_flag','pickup_hour','day_number','month'] , axis = 1 , inplace = True)"
   ]
  },
  {
   "cell_type": "code",
   "execution_count": 37,
   "id": "5224659b",
   "metadata": {},
   "outputs": [
    {
     "data": {
      "text/plain": [
       "Index(['passenger_count', 'pickup_longitude', 'pickup_latitude',\n",
       "       'dropoff_longitude', 'dropoff_latitude', 'trip_duration', 'distance',\n",
       "       'speed', 'flag_N', 'flag_Y', 'vendor_id_1', 'vendor_id_2', 'month_1',\n",
       "       'month_2', 'month_3', 'month_4', 'month_5', 'month_6', 'day_number_0',\n",
       "       'day_number_1', 'day_number_2', 'day_number_3', 'day_number_4',\n",
       "       'day_number_5', 'day_number_6', 'pickup_hour_0', 'pickup_hour_1',\n",
       "       'pickup_hour_2', 'pickup_hour_3', 'pickup_hour_4', 'pickup_hour_5',\n",
       "       'pickup_hour_6', 'pickup_hour_7', 'pickup_hour_8', 'pickup_hour_9',\n",
       "       'pickup_hour_10', 'pickup_hour_11', 'pickup_hour_12', 'pickup_hour_13',\n",
       "       'pickup_hour_14', 'pickup_hour_15', 'pickup_hour_16', 'pickup_hour_17',\n",
       "       'pickup_hour_18', 'pickup_hour_19', 'pickup_hour_20', 'pickup_hour_21',\n",
       "       'pickup_hour_22', 'pickup_hour_23'],\n",
       "      dtype='object')"
      ]
     },
     "execution_count": 37,
     "metadata": {},
     "output_type": "execute_result"
    }
   ],
   "source": [
    "data.columns"
   ]
  },
  {
   "cell_type": "code",
   "execution_count": 38,
   "id": "94dfce7d",
   "metadata": {},
   "outputs": [
    {
     "data": {
      "text/html": [
       "<div>\n",
       "<style scoped>\n",
       "    .dataframe tbody tr th:only-of-type {\n",
       "        vertical-align: middle;\n",
       "    }\n",
       "\n",
       "    .dataframe tbody tr th {\n",
       "        vertical-align: top;\n",
       "    }\n",
       "\n",
       "    .dataframe thead th {\n",
       "        text-align: right;\n",
       "    }\n",
       "</style>\n",
       "<table border=\"1\" class=\"dataframe\">\n",
       "  <thead>\n",
       "    <tr style=\"text-align: right;\">\n",
       "      <th></th>\n",
       "      <th>passenger_count</th>\n",
       "      <th>pickup_longitude</th>\n",
       "      <th>pickup_latitude</th>\n",
       "      <th>dropoff_longitude</th>\n",
       "      <th>dropoff_latitude</th>\n",
       "      <th>trip_duration</th>\n",
       "      <th>distance</th>\n",
       "      <th>speed</th>\n",
       "      <th>flag_N</th>\n",
       "      <th>flag_Y</th>\n",
       "      <th>vendor_id_1</th>\n",
       "      <th>vendor_id_2</th>\n",
       "      <th>month_1</th>\n",
       "      <th>month_2</th>\n",
       "      <th>month_3</th>\n",
       "      <th>month_4</th>\n",
       "      <th>month_5</th>\n",
       "      <th>month_6</th>\n",
       "      <th>day_number_0</th>\n",
       "      <th>day_number_1</th>\n",
       "      <th>day_number_2</th>\n",
       "      <th>day_number_3</th>\n",
       "      <th>day_number_4</th>\n",
       "      <th>day_number_5</th>\n",
       "      <th>day_number_6</th>\n",
       "      <th>pickup_hour_0</th>\n",
       "      <th>pickup_hour_1</th>\n",
       "      <th>pickup_hour_2</th>\n",
       "      <th>pickup_hour_3</th>\n",
       "      <th>pickup_hour_4</th>\n",
       "      <th>pickup_hour_5</th>\n",
       "      <th>pickup_hour_6</th>\n",
       "      <th>pickup_hour_7</th>\n",
       "      <th>pickup_hour_8</th>\n",
       "      <th>pickup_hour_9</th>\n",
       "      <th>pickup_hour_10</th>\n",
       "      <th>pickup_hour_11</th>\n",
       "      <th>pickup_hour_12</th>\n",
       "      <th>pickup_hour_13</th>\n",
       "      <th>pickup_hour_14</th>\n",
       "      <th>pickup_hour_15</th>\n",
       "      <th>pickup_hour_16</th>\n",
       "      <th>pickup_hour_17</th>\n",
       "      <th>pickup_hour_18</th>\n",
       "      <th>pickup_hour_19</th>\n",
       "      <th>pickup_hour_20</th>\n",
       "      <th>pickup_hour_21</th>\n",
       "      <th>pickup_hour_22</th>\n",
       "      <th>pickup_hour_23</th>\n",
       "    </tr>\n",
       "  </thead>\n",
       "  <tbody>\n",
       "    <tr>\n",
       "      <th>0</th>\n",
       "      <td>1</td>\n",
       "      <td>-73.953918</td>\n",
       "      <td>40.778873</td>\n",
       "      <td>-73.963875</td>\n",
       "      <td>40.771164</td>\n",
       "      <td>400</td>\n",
       "      <td>1.199770</td>\n",
       "      <td>10.797929</td>\n",
       "      <td>1</td>\n",
       "      <td>0</td>\n",
       "      <td>0</td>\n",
       "      <td>1</td>\n",
       "      <td>0</td>\n",
       "      <td>1</td>\n",
       "      <td>0</td>\n",
       "      <td>0</td>\n",
       "      <td>0</td>\n",
       "      <td>0</td>\n",
       "      <td>1</td>\n",
       "      <td>0</td>\n",
       "      <td>0</td>\n",
       "      <td>0</td>\n",
       "      <td>0</td>\n",
       "      <td>0</td>\n",
       "      <td>0</td>\n",
       "      <td>0</td>\n",
       "      <td>0</td>\n",
       "      <td>0</td>\n",
       "      <td>0</td>\n",
       "      <td>0</td>\n",
       "      <td>0</td>\n",
       "      <td>0</td>\n",
       "      <td>0</td>\n",
       "      <td>0</td>\n",
       "      <td>0</td>\n",
       "      <td>0</td>\n",
       "      <td>0</td>\n",
       "      <td>0</td>\n",
       "      <td>0</td>\n",
       "      <td>0</td>\n",
       "      <td>0</td>\n",
       "      <td>1</td>\n",
       "      <td>0</td>\n",
       "      <td>0</td>\n",
       "      <td>0</td>\n",
       "      <td>0</td>\n",
       "      <td>0</td>\n",
       "      <td>0</td>\n",
       "      <td>0</td>\n",
       "    </tr>\n",
       "    <tr>\n",
       "      <th>1</th>\n",
       "      <td>2</td>\n",
       "      <td>-73.988312</td>\n",
       "      <td>40.731743</td>\n",
       "      <td>-73.994751</td>\n",
       "      <td>40.694931</td>\n",
       "      <td>1100</td>\n",
       "      <td>4.123945</td>\n",
       "      <td>13.496548</td>\n",
       "      <td>1</td>\n",
       "      <td>0</td>\n",
       "      <td>1</td>\n",
       "      <td>0</td>\n",
       "      <td>0</td>\n",
       "      <td>0</td>\n",
       "      <td>1</td>\n",
       "      <td>0</td>\n",
       "      <td>0</td>\n",
       "      <td>0</td>\n",
       "      <td>0</td>\n",
       "      <td>0</td>\n",
       "      <td>0</td>\n",
       "      <td>0</td>\n",
       "      <td>1</td>\n",
       "      <td>0</td>\n",
       "      <td>0</td>\n",
       "      <td>0</td>\n",
       "      <td>0</td>\n",
       "      <td>0</td>\n",
       "      <td>0</td>\n",
       "      <td>0</td>\n",
       "      <td>0</td>\n",
       "      <td>0</td>\n",
       "      <td>0</td>\n",
       "      <td>0</td>\n",
       "      <td>0</td>\n",
       "      <td>0</td>\n",
       "      <td>0</td>\n",
       "      <td>0</td>\n",
       "      <td>0</td>\n",
       "      <td>0</td>\n",
       "      <td>0</td>\n",
       "      <td>0</td>\n",
       "      <td>0</td>\n",
       "      <td>0</td>\n",
       "      <td>0</td>\n",
       "      <td>0</td>\n",
       "      <td>0</td>\n",
       "      <td>0</td>\n",
       "      <td>1</td>\n",
       "    </tr>\n",
       "    <tr>\n",
       "      <th>2</th>\n",
       "      <td>2</td>\n",
       "      <td>-73.997314</td>\n",
       "      <td>40.721458</td>\n",
       "      <td>-73.948029</td>\n",
       "      <td>40.774918</td>\n",
       "      <td>1635</td>\n",
       "      <td>7.250436</td>\n",
       "      <td>15.964262</td>\n",
       "      <td>1</td>\n",
       "      <td>0</td>\n",
       "      <td>0</td>\n",
       "      <td>1</td>\n",
       "      <td>0</td>\n",
       "      <td>1</td>\n",
       "      <td>0</td>\n",
       "      <td>0</td>\n",
       "      <td>0</td>\n",
       "      <td>0</td>\n",
       "      <td>0</td>\n",
       "      <td>0</td>\n",
       "      <td>0</td>\n",
       "      <td>0</td>\n",
       "      <td>0</td>\n",
       "      <td>0</td>\n",
       "      <td>1</td>\n",
       "      <td>0</td>\n",
       "      <td>0</td>\n",
       "      <td>0</td>\n",
       "      <td>0</td>\n",
       "      <td>0</td>\n",
       "      <td>0</td>\n",
       "      <td>0</td>\n",
       "      <td>0</td>\n",
       "      <td>0</td>\n",
       "      <td>0</td>\n",
       "      <td>0</td>\n",
       "      <td>0</td>\n",
       "      <td>0</td>\n",
       "      <td>0</td>\n",
       "      <td>0</td>\n",
       "      <td>0</td>\n",
       "      <td>0</td>\n",
       "      <td>1</td>\n",
       "      <td>0</td>\n",
       "      <td>0</td>\n",
       "      <td>0</td>\n",
       "      <td>0</td>\n",
       "      <td>0</td>\n",
       "      <td>0</td>\n",
       "    </tr>\n",
       "    <tr>\n",
       "      <th>3</th>\n",
       "      <td>6</td>\n",
       "      <td>-73.961670</td>\n",
       "      <td>40.759720</td>\n",
       "      <td>-73.956779</td>\n",
       "      <td>40.780628</td>\n",
       "      <td>1141</td>\n",
       "      <td>2.358287</td>\n",
       "      <td>7.440694</td>\n",
       "      <td>1</td>\n",
       "      <td>0</td>\n",
       "      <td>0</td>\n",
       "      <td>1</td>\n",
       "      <td>1</td>\n",
       "      <td>0</td>\n",
       "      <td>0</td>\n",
       "      <td>0</td>\n",
       "      <td>0</td>\n",
       "      <td>0</td>\n",
       "      <td>0</td>\n",
       "      <td>1</td>\n",
       "      <td>0</td>\n",
       "      <td>0</td>\n",
       "      <td>0</td>\n",
       "      <td>0</td>\n",
       "      <td>0</td>\n",
       "      <td>0</td>\n",
       "      <td>0</td>\n",
       "      <td>0</td>\n",
       "      <td>0</td>\n",
       "      <td>0</td>\n",
       "      <td>0</td>\n",
       "      <td>0</td>\n",
       "      <td>0</td>\n",
       "      <td>0</td>\n",
       "      <td>1</td>\n",
       "      <td>0</td>\n",
       "      <td>0</td>\n",
       "      <td>0</td>\n",
       "      <td>0</td>\n",
       "      <td>0</td>\n",
       "      <td>0</td>\n",
       "      <td>0</td>\n",
       "      <td>0</td>\n",
       "      <td>0</td>\n",
       "      <td>0</td>\n",
       "      <td>0</td>\n",
       "      <td>0</td>\n",
       "      <td>0</td>\n",
       "      <td>0</td>\n",
       "    </tr>\n",
       "    <tr>\n",
       "      <th>4</th>\n",
       "      <td>1</td>\n",
       "      <td>-74.017120</td>\n",
       "      <td>40.708469</td>\n",
       "      <td>-73.988182</td>\n",
       "      <td>40.740631</td>\n",
       "      <td>848</td>\n",
       "      <td>4.328155</td>\n",
       "      <td>18.374244</td>\n",
       "      <td>1</td>\n",
       "      <td>0</td>\n",
       "      <td>1</td>\n",
       "      <td>0</td>\n",
       "      <td>0</td>\n",
       "      <td>1</td>\n",
       "      <td>0</td>\n",
       "      <td>0</td>\n",
       "      <td>0</td>\n",
       "      <td>0</td>\n",
       "      <td>0</td>\n",
       "      <td>0</td>\n",
       "      <td>1</td>\n",
       "      <td>0</td>\n",
       "      <td>0</td>\n",
       "      <td>0</td>\n",
       "      <td>0</td>\n",
       "      <td>0</td>\n",
       "      <td>0</td>\n",
       "      <td>0</td>\n",
       "      <td>0</td>\n",
       "      <td>0</td>\n",
       "      <td>0</td>\n",
       "      <td>1</td>\n",
       "      <td>0</td>\n",
       "      <td>0</td>\n",
       "      <td>0</td>\n",
       "      <td>0</td>\n",
       "      <td>0</td>\n",
       "      <td>0</td>\n",
       "      <td>0</td>\n",
       "      <td>0</td>\n",
       "      <td>0</td>\n",
       "      <td>0</td>\n",
       "      <td>0</td>\n",
       "      <td>0</td>\n",
       "      <td>0</td>\n",
       "      <td>0</td>\n",
       "      <td>0</td>\n",
       "      <td>0</td>\n",
       "      <td>0</td>\n",
       "    </tr>\n",
       "  </tbody>\n",
       "</table>\n",
       "</div>"
      ],
      "text/plain": [
       "   passenger_count  pickup_longitude  pickup_latitude  dropoff_longitude  \\\n",
       "0                1        -73.953918        40.778873         -73.963875   \n",
       "1                2        -73.988312        40.731743         -73.994751   \n",
       "2                2        -73.997314        40.721458         -73.948029   \n",
       "3                6        -73.961670        40.759720         -73.956779   \n",
       "4                1        -74.017120        40.708469         -73.988182   \n",
       "\n",
       "   dropoff_latitude  trip_duration  distance      speed  flag_N  flag_Y  \\\n",
       "0         40.771164            400  1.199770  10.797929       1       0   \n",
       "1         40.694931           1100  4.123945  13.496548       1       0   \n",
       "2         40.774918           1635  7.250436  15.964262       1       0   \n",
       "3         40.780628           1141  2.358287   7.440694       1       0   \n",
       "4         40.740631            848  4.328155  18.374244       1       0   \n",
       "\n",
       "   vendor_id_1  vendor_id_2  month_1  month_2  month_3  month_4  month_5  \\\n",
       "0            0            1        0        1        0        0        0   \n",
       "1            1            0        0        0        1        0        0   \n",
       "2            0            1        0        1        0        0        0   \n",
       "3            0            1        1        0        0        0        0   \n",
       "4            1            0        0        1        0        0        0   \n",
       "\n",
       "   month_6  day_number_0  day_number_1  day_number_2  day_number_3  \\\n",
       "0        0             1             0             0             0   \n",
       "1        0             0             0             0             0   \n",
       "2        0             0             0             0             0   \n",
       "3        0             0             1             0             0   \n",
       "4        0             0             0             1             0   \n",
       "\n",
       "   day_number_4  day_number_5  day_number_6  pickup_hour_0  pickup_hour_1  \\\n",
       "0             0             0             0              0              0   \n",
       "1             1             0             0              0              0   \n",
       "2             0             0             1              0              0   \n",
       "3             0             0             0              0              0   \n",
       "4             0             0             0              0              0   \n",
       "\n",
       "   pickup_hour_2  pickup_hour_3  pickup_hour_4  pickup_hour_5  pickup_hour_6  \\\n",
       "0              0              0              0              0              0   \n",
       "1              0              0              0              0              0   \n",
       "2              0              0              0              0              0   \n",
       "3              0              0              0              0              0   \n",
       "4              0              0              0              0              1   \n",
       "\n",
       "   pickup_hour_7  pickup_hour_8  pickup_hour_9  pickup_hour_10  \\\n",
       "0              0              0              0               0   \n",
       "1              0              0              0               0   \n",
       "2              0              0              0               0   \n",
       "3              0              0              1               0   \n",
       "4              0              0              0               0   \n",
       "\n",
       "   pickup_hour_11  pickup_hour_12  pickup_hour_13  pickup_hour_14  \\\n",
       "0               0               0               0               0   \n",
       "1               0               0               0               0   \n",
       "2               0               0               0               0   \n",
       "3               0               0               0               0   \n",
       "4               0               0               0               0   \n",
       "\n",
       "   pickup_hour_15  pickup_hour_16  pickup_hour_17  pickup_hour_18  \\\n",
       "0               0               1               0               0   \n",
       "1               0               0               0               0   \n",
       "2               0               0               1               0   \n",
       "3               0               0               0               0   \n",
       "4               0               0               0               0   \n",
       "\n",
       "   pickup_hour_19  pickup_hour_20  pickup_hour_21  pickup_hour_22  \\\n",
       "0               0               0               0               0   \n",
       "1               0               0               0               0   \n",
       "2               0               0               0               0   \n",
       "3               0               0               0               0   \n",
       "4               0               0               0               0   \n",
       "\n",
       "   pickup_hour_23  \n",
       "0               0  \n",
       "1               1  \n",
       "2               0  \n",
       "3               0  \n",
       "4               0  "
      ]
     },
     "execution_count": 38,
     "metadata": {},
     "output_type": "execute_result"
    }
   ],
   "source": [
    "data.head()"
   ]
  },
  {
   "cell_type": "code",
   "execution_count": 39,
   "id": "087ae333",
   "metadata": {},
   "outputs": [
    {
     "data": {
      "text/plain": [
       "passenger_count        int64\n",
       "pickup_longitude     float64\n",
       "pickup_latitude      float64\n",
       "dropoff_longitude    float64\n",
       "dropoff_latitude     float64\n",
       "trip_duration          int64\n",
       "distance             float64\n",
       "speed                float64\n",
       "flag_N                 uint8\n",
       "flag_Y                 uint8\n",
       "vendor_id_1            uint8\n",
       "vendor_id_2            uint8\n",
       "month_1                uint8\n",
       "month_2                uint8\n",
       "month_3                uint8\n",
       "month_4                uint8\n",
       "month_5                uint8\n",
       "month_6                uint8\n",
       "day_number_0           uint8\n",
       "day_number_1           uint8\n",
       "day_number_2           uint8\n",
       "day_number_3           uint8\n",
       "day_number_4           uint8\n",
       "day_number_5           uint8\n",
       "day_number_6           uint8\n",
       "pickup_hour_0          uint8\n",
       "pickup_hour_1          uint8\n",
       "pickup_hour_2          uint8\n",
       "pickup_hour_3          uint8\n",
       "pickup_hour_4          uint8\n",
       "pickup_hour_5          uint8\n",
       "pickup_hour_6          uint8\n",
       "pickup_hour_7          uint8\n",
       "pickup_hour_8          uint8\n",
       "pickup_hour_9          uint8\n",
       "pickup_hour_10         uint8\n",
       "pickup_hour_11         uint8\n",
       "pickup_hour_12         uint8\n",
       "pickup_hour_13         uint8\n",
       "pickup_hour_14         uint8\n",
       "pickup_hour_15         uint8\n",
       "pickup_hour_16         uint8\n",
       "pickup_hour_17         uint8\n",
       "pickup_hour_18         uint8\n",
       "pickup_hour_19         uint8\n",
       "pickup_hour_20         uint8\n",
       "pickup_hour_21         uint8\n",
       "pickup_hour_22         uint8\n",
       "pickup_hour_23         uint8\n",
       "dtype: object"
      ]
     },
     "execution_count": 39,
     "metadata": {},
     "output_type": "execute_result"
    }
   ],
   "source": [
    "data.dtypes"
   ]
  },
  {
   "cell_type": "markdown",
   "id": "30080f1b",
   "metadata": {},
   "source": [
    "# BenchMark Model"
   ]
  },
  {
   "cell_type": "code",
   "execution_count": 40,
   "id": "11a499c9",
   "metadata": {},
   "outputs": [],
   "source": [
    "from sklearn.utils import shuffle"
   ]
  },
  {
   "cell_type": "code",
   "execution_count": 41,
   "id": "1f8462ca",
   "metadata": {},
   "outputs": [],
   "source": [
    "# Shuffling the Dataset\n",
    "data = shuffle(data, random_state = 42)\n",
    "\n",
    "#creating 4 divisions\n",
    "div = int(data.shape[0]/4)\n",
    "\n",
    "# 3 parts to train set and 1 part to test set\n",
    "train = data.loc[:3*div+1,:]\n",
    "test = data.loc[3*div+1:]"
   ]
  },
  {
   "cell_type": "code",
   "execution_count": 42,
   "id": "9d5552a0",
   "metadata": {},
   "outputs": [
    {
     "data": {
      "text/html": [
       "<div>\n",
       "<style scoped>\n",
       "    .dataframe tbody tr th:only-of-type {\n",
       "        vertical-align: middle;\n",
       "    }\n",
       "\n",
       "    .dataframe tbody tr th {\n",
       "        vertical-align: top;\n",
       "    }\n",
       "\n",
       "    .dataframe thead th {\n",
       "        text-align: right;\n",
       "    }\n",
       "</style>\n",
       "<table border=\"1\" class=\"dataframe\">\n",
       "  <thead>\n",
       "    <tr style=\"text-align: right;\">\n",
       "      <th></th>\n",
       "      <th>passenger_count</th>\n",
       "      <th>pickup_longitude</th>\n",
       "      <th>pickup_latitude</th>\n",
       "      <th>dropoff_longitude</th>\n",
       "      <th>dropoff_latitude</th>\n",
       "      <th>trip_duration</th>\n",
       "      <th>distance</th>\n",
       "      <th>speed</th>\n",
       "      <th>flag_N</th>\n",
       "      <th>flag_Y</th>\n",
       "      <th>vendor_id_1</th>\n",
       "      <th>vendor_id_2</th>\n",
       "      <th>month_1</th>\n",
       "      <th>month_2</th>\n",
       "      <th>month_3</th>\n",
       "      <th>month_4</th>\n",
       "      <th>month_5</th>\n",
       "      <th>month_6</th>\n",
       "      <th>day_number_0</th>\n",
       "      <th>day_number_1</th>\n",
       "      <th>day_number_2</th>\n",
       "      <th>day_number_3</th>\n",
       "      <th>day_number_4</th>\n",
       "      <th>day_number_5</th>\n",
       "      <th>day_number_6</th>\n",
       "      <th>pickup_hour_0</th>\n",
       "      <th>pickup_hour_1</th>\n",
       "      <th>pickup_hour_2</th>\n",
       "      <th>pickup_hour_3</th>\n",
       "      <th>pickup_hour_4</th>\n",
       "      <th>pickup_hour_5</th>\n",
       "      <th>pickup_hour_6</th>\n",
       "      <th>pickup_hour_7</th>\n",
       "      <th>pickup_hour_8</th>\n",
       "      <th>pickup_hour_9</th>\n",
       "      <th>pickup_hour_10</th>\n",
       "      <th>pickup_hour_11</th>\n",
       "      <th>pickup_hour_12</th>\n",
       "      <th>pickup_hour_13</th>\n",
       "      <th>pickup_hour_14</th>\n",
       "      <th>pickup_hour_15</th>\n",
       "      <th>pickup_hour_16</th>\n",
       "      <th>pickup_hour_17</th>\n",
       "      <th>pickup_hour_18</th>\n",
       "      <th>pickup_hour_19</th>\n",
       "      <th>pickup_hour_20</th>\n",
       "      <th>pickup_hour_21</th>\n",
       "      <th>pickup_hour_22</th>\n",
       "      <th>pickup_hour_23</th>\n",
       "    </tr>\n",
       "  </thead>\n",
       "  <tbody>\n",
       "    <tr>\n",
       "      <th>498628</th>\n",
       "      <td>1</td>\n",
       "      <td>-73.981995</td>\n",
       "      <td>40.758884</td>\n",
       "      <td>-73.982651</td>\n",
       "      <td>40.771729</td>\n",
       "      <td>419</td>\n",
       "      <td>1.427403</td>\n",
       "      <td>12.264084</td>\n",
       "      <td>1</td>\n",
       "      <td>0</td>\n",
       "      <td>1</td>\n",
       "      <td>0</td>\n",
       "      <td>0</td>\n",
       "      <td>0</td>\n",
       "      <td>0</td>\n",
       "      <td>0</td>\n",
       "      <td>1</td>\n",
       "      <td>0</td>\n",
       "      <td>0</td>\n",
       "      <td>0</td>\n",
       "      <td>0</td>\n",
       "      <td>0</td>\n",
       "      <td>0</td>\n",
       "      <td>0</td>\n",
       "      <td>1</td>\n",
       "      <td>0</td>\n",
       "      <td>0</td>\n",
       "      <td>0</td>\n",
       "      <td>0</td>\n",
       "      <td>0</td>\n",
       "      <td>0</td>\n",
       "      <td>0</td>\n",
       "      <td>0</td>\n",
       "      <td>0</td>\n",
       "      <td>0</td>\n",
       "      <td>0</td>\n",
       "      <td>0</td>\n",
       "      <td>0</td>\n",
       "      <td>0</td>\n",
       "      <td>0</td>\n",
       "      <td>0</td>\n",
       "      <td>0</td>\n",
       "      <td>0</td>\n",
       "      <td>0</td>\n",
       "      <td>1</td>\n",
       "      <td>0</td>\n",
       "      <td>0</td>\n",
       "      <td>0</td>\n",
       "      <td>0</td>\n",
       "    </tr>\n",
       "    <tr>\n",
       "      <th>288589</th>\n",
       "      <td>2</td>\n",
       "      <td>-73.974884</td>\n",
       "      <td>40.790512</td>\n",
       "      <td>-73.969803</td>\n",
       "      <td>40.799870</td>\n",
       "      <td>312</td>\n",
       "      <td>1.124150</td>\n",
       "      <td>12.970963</td>\n",
       "      <td>1</td>\n",
       "      <td>0</td>\n",
       "      <td>1</td>\n",
       "      <td>0</td>\n",
       "      <td>0</td>\n",
       "      <td>0</td>\n",
       "      <td>0</td>\n",
       "      <td>1</td>\n",
       "      <td>0</td>\n",
       "      <td>0</td>\n",
       "      <td>0</td>\n",
       "      <td>0</td>\n",
       "      <td>0</td>\n",
       "      <td>1</td>\n",
       "      <td>0</td>\n",
       "      <td>0</td>\n",
       "      <td>0</td>\n",
       "      <td>0</td>\n",
       "      <td>0</td>\n",
       "      <td>0</td>\n",
       "      <td>0</td>\n",
       "      <td>0</td>\n",
       "      <td>0</td>\n",
       "      <td>0</td>\n",
       "      <td>0</td>\n",
       "      <td>0</td>\n",
       "      <td>0</td>\n",
       "      <td>0</td>\n",
       "      <td>0</td>\n",
       "      <td>0</td>\n",
       "      <td>0</td>\n",
       "      <td>0</td>\n",
       "      <td>0</td>\n",
       "      <td>0</td>\n",
       "      <td>0</td>\n",
       "      <td>1</td>\n",
       "      <td>0</td>\n",
       "      <td>0</td>\n",
       "      <td>0</td>\n",
       "      <td>0</td>\n",
       "      <td>0</td>\n",
       "    </tr>\n",
       "    <tr>\n",
       "      <th>726002</th>\n",
       "      <td>1</td>\n",
       "      <td>-73.992210</td>\n",
       "      <td>40.737881</td>\n",
       "      <td>-74.004585</td>\n",
       "      <td>40.717117</td>\n",
       "      <td>722</td>\n",
       "      <td>2.531682</td>\n",
       "      <td>12.623344</td>\n",
       "      <td>1</td>\n",
       "      <td>0</td>\n",
       "      <td>1</td>\n",
       "      <td>0</td>\n",
       "      <td>0</td>\n",
       "      <td>0</td>\n",
       "      <td>0</td>\n",
       "      <td>0</td>\n",
       "      <td>1</td>\n",
       "      <td>0</td>\n",
       "      <td>0</td>\n",
       "      <td>0</td>\n",
       "      <td>0</td>\n",
       "      <td>1</td>\n",
       "      <td>0</td>\n",
       "      <td>0</td>\n",
       "      <td>0</td>\n",
       "      <td>0</td>\n",
       "      <td>0</td>\n",
       "      <td>0</td>\n",
       "      <td>0</td>\n",
       "      <td>0</td>\n",
       "      <td>0</td>\n",
       "      <td>0</td>\n",
       "      <td>0</td>\n",
       "      <td>0</td>\n",
       "      <td>0</td>\n",
       "      <td>0</td>\n",
       "      <td>0</td>\n",
       "      <td>0</td>\n",
       "      <td>0</td>\n",
       "      <td>0</td>\n",
       "      <td>0</td>\n",
       "      <td>0</td>\n",
       "      <td>0</td>\n",
       "      <td>0</td>\n",
       "      <td>1</td>\n",
       "      <td>0</td>\n",
       "      <td>0</td>\n",
       "      <td>0</td>\n",
       "      <td>0</td>\n",
       "    </tr>\n",
       "    <tr>\n",
       "      <th>171668</th>\n",
       "      <td>1</td>\n",
       "      <td>-74.012665</td>\n",
       "      <td>40.701706</td>\n",
       "      <td>-74.002747</td>\n",
       "      <td>40.734188</td>\n",
       "      <td>905</td>\n",
       "      <td>3.703159</td>\n",
       "      <td>14.730800</td>\n",
       "      <td>1</td>\n",
       "      <td>0</td>\n",
       "      <td>1</td>\n",
       "      <td>0</td>\n",
       "      <td>0</td>\n",
       "      <td>0</td>\n",
       "      <td>0</td>\n",
       "      <td>0</td>\n",
       "      <td>1</td>\n",
       "      <td>0</td>\n",
       "      <td>0</td>\n",
       "      <td>1</td>\n",
       "      <td>0</td>\n",
       "      <td>0</td>\n",
       "      <td>0</td>\n",
       "      <td>0</td>\n",
       "      <td>0</td>\n",
       "      <td>0</td>\n",
       "      <td>0</td>\n",
       "      <td>0</td>\n",
       "      <td>0</td>\n",
       "      <td>0</td>\n",
       "      <td>0</td>\n",
       "      <td>0</td>\n",
       "      <td>0</td>\n",
       "      <td>0</td>\n",
       "      <td>0</td>\n",
       "      <td>0</td>\n",
       "      <td>0</td>\n",
       "      <td>0</td>\n",
       "      <td>0</td>\n",
       "      <td>0</td>\n",
       "      <td>0</td>\n",
       "      <td>0</td>\n",
       "      <td>0</td>\n",
       "      <td>0</td>\n",
       "      <td>1</td>\n",
       "      <td>0</td>\n",
       "      <td>0</td>\n",
       "      <td>0</td>\n",
       "      <td>0</td>\n",
       "    </tr>\n",
       "    <tr>\n",
       "      <th>140184</th>\n",
       "      <td>2</td>\n",
       "      <td>-73.988586</td>\n",
       "      <td>40.777870</td>\n",
       "      <td>-73.982155</td>\n",
       "      <td>40.770100</td>\n",
       "      <td>360</td>\n",
       "      <td>1.019526</td>\n",
       "      <td>10.195265</td>\n",
       "      <td>1</td>\n",
       "      <td>0</td>\n",
       "      <td>0</td>\n",
       "      <td>1</td>\n",
       "      <td>1</td>\n",
       "      <td>0</td>\n",
       "      <td>0</td>\n",
       "      <td>0</td>\n",
       "      <td>0</td>\n",
       "      <td>0</td>\n",
       "      <td>0</td>\n",
       "      <td>0</td>\n",
       "      <td>0</td>\n",
       "      <td>0</td>\n",
       "      <td>1</td>\n",
       "      <td>0</td>\n",
       "      <td>0</td>\n",
       "      <td>0</td>\n",
       "      <td>0</td>\n",
       "      <td>0</td>\n",
       "      <td>0</td>\n",
       "      <td>0</td>\n",
       "      <td>0</td>\n",
       "      <td>0</td>\n",
       "      <td>0</td>\n",
       "      <td>0</td>\n",
       "      <td>1</td>\n",
       "      <td>0</td>\n",
       "      <td>0</td>\n",
       "      <td>0</td>\n",
       "      <td>0</td>\n",
       "      <td>0</td>\n",
       "      <td>0</td>\n",
       "      <td>0</td>\n",
       "      <td>0</td>\n",
       "      <td>0</td>\n",
       "      <td>0</td>\n",
       "      <td>0</td>\n",
       "      <td>0</td>\n",
       "      <td>0</td>\n",
       "      <td>0</td>\n",
       "    </tr>\n",
       "  </tbody>\n",
       "</table>\n",
       "</div>"
      ],
      "text/plain": [
       "        passenger_count  pickup_longitude  pickup_latitude  dropoff_longitude  \\\n",
       "498628                1        -73.981995        40.758884         -73.982651   \n",
       "288589                2        -73.974884        40.790512         -73.969803   \n",
       "726002                1        -73.992210        40.737881         -74.004585   \n",
       "171668                1        -74.012665        40.701706         -74.002747   \n",
       "140184                2        -73.988586        40.777870         -73.982155   \n",
       "\n",
       "        dropoff_latitude  trip_duration  distance      speed  flag_N  flag_Y  \\\n",
       "498628         40.771729            419  1.427403  12.264084       1       0   \n",
       "288589         40.799870            312  1.124150  12.970963       1       0   \n",
       "726002         40.717117            722  2.531682  12.623344       1       0   \n",
       "171668         40.734188            905  3.703159  14.730800       1       0   \n",
       "140184         40.770100            360  1.019526  10.195265       1       0   \n",
       "\n",
       "        vendor_id_1  vendor_id_2  month_1  month_2  month_3  month_4  month_5  \\\n",
       "498628            1            0        0        0        0        0        1   \n",
       "288589            1            0        0        0        0        1        0   \n",
       "726002            1            0        0        0        0        0        1   \n",
       "171668            1            0        0        0        0        0        1   \n",
       "140184            0            1        1        0        0        0        0   \n",
       "\n",
       "        month_6  day_number_0  day_number_1  day_number_2  day_number_3  \\\n",
       "498628        0             0             0             0             0   \n",
       "288589        0             0             0             0             1   \n",
       "726002        0             0             0             0             1   \n",
       "171668        0             0             1             0             0   \n",
       "140184        0             0             0             0             0   \n",
       "\n",
       "        day_number_4  day_number_5  day_number_6  pickup_hour_0  \\\n",
       "498628             0             0             1              0   \n",
       "288589             0             0             0              0   \n",
       "726002             0             0             0              0   \n",
       "171668             0             0             0              0   \n",
       "140184             1             0             0              0   \n",
       "\n",
       "        pickup_hour_1  pickup_hour_2  pickup_hour_3  pickup_hour_4  \\\n",
       "498628              0              0              0              0   \n",
       "288589              0              0              0              0   \n",
       "726002              0              0              0              0   \n",
       "171668              0              0              0              0   \n",
       "140184              0              0              0              0   \n",
       "\n",
       "        pickup_hour_5  pickup_hour_6  pickup_hour_7  pickup_hour_8  \\\n",
       "498628              0              0              0              0   \n",
       "288589              0              0              0              0   \n",
       "726002              0              0              0              0   \n",
       "171668              0              0              0              0   \n",
       "140184              0              0              0              0   \n",
       "\n",
       "        pickup_hour_9  pickup_hour_10  pickup_hour_11  pickup_hour_12  \\\n",
       "498628              0               0               0               0   \n",
       "288589              0               0               0               0   \n",
       "726002              0               0               0               0   \n",
       "171668              0               0               0               0   \n",
       "140184              1               0               0               0   \n",
       "\n",
       "        pickup_hour_13  pickup_hour_14  pickup_hour_15  pickup_hour_16  \\\n",
       "498628               0               0               0               0   \n",
       "288589               0               0               0               0   \n",
       "726002               0               0               0               0   \n",
       "171668               0               0               0               0   \n",
       "140184               0               0               0               0   \n",
       "\n",
       "        pickup_hour_17  pickup_hour_18  pickup_hour_19  pickup_hour_20  \\\n",
       "498628               0               0               1               0   \n",
       "288589               0               1               0               0   \n",
       "726002               0               0               1               0   \n",
       "171668               0               0               1               0   \n",
       "140184               0               0               0               0   \n",
       "\n",
       "        pickup_hour_21  pickup_hour_22  pickup_hour_23  \n",
       "498628               0               0               0  \n",
       "288589               0               0               0  \n",
       "726002               0               0               0  \n",
       "171668               0               0               0  \n",
       "140184               0               0               0  "
      ]
     },
     "execution_count": 42,
     "metadata": {},
     "output_type": "execute_result"
    }
   ],
   "source": [
    "train.head()"
   ]
  },
  {
   "cell_type": "code",
   "execution_count": 43,
   "id": "5ad6ce03",
   "metadata": {},
   "outputs": [
    {
     "data": {
      "text/html": [
       "<div>\n",
       "<style scoped>\n",
       "    .dataframe tbody tr th:only-of-type {\n",
       "        vertical-align: middle;\n",
       "    }\n",
       "\n",
       "    .dataframe tbody tr th {\n",
       "        vertical-align: top;\n",
       "    }\n",
       "\n",
       "    .dataframe thead th {\n",
       "        text-align: right;\n",
       "    }\n",
       "</style>\n",
       "<table border=\"1\" class=\"dataframe\">\n",
       "  <thead>\n",
       "    <tr style=\"text-align: right;\">\n",
       "      <th></th>\n",
       "      <th>passenger_count</th>\n",
       "      <th>pickup_longitude</th>\n",
       "      <th>pickup_latitude</th>\n",
       "      <th>dropoff_longitude</th>\n",
       "      <th>dropoff_latitude</th>\n",
       "      <th>trip_duration</th>\n",
       "      <th>distance</th>\n",
       "      <th>speed</th>\n",
       "      <th>flag_N</th>\n",
       "      <th>flag_Y</th>\n",
       "      <th>vendor_id_1</th>\n",
       "      <th>vendor_id_2</th>\n",
       "      <th>month_1</th>\n",
       "      <th>month_2</th>\n",
       "      <th>month_3</th>\n",
       "      <th>month_4</th>\n",
       "      <th>month_5</th>\n",
       "      <th>month_6</th>\n",
       "      <th>day_number_0</th>\n",
       "      <th>day_number_1</th>\n",
       "      <th>day_number_2</th>\n",
       "      <th>day_number_3</th>\n",
       "      <th>day_number_4</th>\n",
       "      <th>day_number_5</th>\n",
       "      <th>day_number_6</th>\n",
       "      <th>pickup_hour_0</th>\n",
       "      <th>pickup_hour_1</th>\n",
       "      <th>pickup_hour_2</th>\n",
       "      <th>pickup_hour_3</th>\n",
       "      <th>pickup_hour_4</th>\n",
       "      <th>pickup_hour_5</th>\n",
       "      <th>pickup_hour_6</th>\n",
       "      <th>pickup_hour_7</th>\n",
       "      <th>pickup_hour_8</th>\n",
       "      <th>pickup_hour_9</th>\n",
       "      <th>pickup_hour_10</th>\n",
       "      <th>pickup_hour_11</th>\n",
       "      <th>pickup_hour_12</th>\n",
       "      <th>pickup_hour_13</th>\n",
       "      <th>pickup_hour_14</th>\n",
       "      <th>pickup_hour_15</th>\n",
       "      <th>pickup_hour_16</th>\n",
       "      <th>pickup_hour_17</th>\n",
       "      <th>pickup_hour_18</th>\n",
       "      <th>pickup_hour_19</th>\n",
       "      <th>pickup_hour_20</th>\n",
       "      <th>pickup_hour_21</th>\n",
       "      <th>pickup_hour_22</th>\n",
       "      <th>pickup_hour_23</th>\n",
       "    </tr>\n",
       "  </thead>\n",
       "  <tbody>\n",
       "    <tr>\n",
       "      <th>442369</th>\n",
       "      <td>1</td>\n",
       "      <td>-73.988716</td>\n",
       "      <td>40.768974</td>\n",
       "      <td>-74.009560</td>\n",
       "      <td>40.706268</td>\n",
       "      <td>1161</td>\n",
       "      <td>7.182553</td>\n",
       "      <td>22.271482</td>\n",
       "      <td>1</td>\n",
       "      <td>0</td>\n",
       "      <td>1</td>\n",
       "      <td>0</td>\n",
       "      <td>0</td>\n",
       "      <td>0</td>\n",
       "      <td>1</td>\n",
       "      <td>0</td>\n",
       "      <td>0</td>\n",
       "      <td>0</td>\n",
       "      <td>0</td>\n",
       "      <td>0</td>\n",
       "      <td>0</td>\n",
       "      <td>0</td>\n",
       "      <td>0</td>\n",
       "      <td>1</td>\n",
       "      <td>0</td>\n",
       "      <td>1</td>\n",
       "      <td>0</td>\n",
       "      <td>0</td>\n",
       "      <td>0</td>\n",
       "      <td>0</td>\n",
       "      <td>0</td>\n",
       "      <td>0</td>\n",
       "      <td>0</td>\n",
       "      <td>0</td>\n",
       "      <td>0</td>\n",
       "      <td>0</td>\n",
       "      <td>0</td>\n",
       "      <td>0</td>\n",
       "      <td>0</td>\n",
       "      <td>0</td>\n",
       "      <td>0</td>\n",
       "      <td>0</td>\n",
       "      <td>0</td>\n",
       "      <td>0</td>\n",
       "      <td>0</td>\n",
       "      <td>0</td>\n",
       "      <td>0</td>\n",
       "      <td>0</td>\n",
       "      <td>0</td>\n",
       "    </tr>\n",
       "    <tr>\n",
       "      <th>218492</th>\n",
       "      <td>5</td>\n",
       "      <td>-73.945152</td>\n",
       "      <td>40.778797</td>\n",
       "      <td>-73.958534</td>\n",
       "      <td>40.764778</td>\n",
       "      <td>765</td>\n",
       "      <td>1.923542</td>\n",
       "      <td>9.051964</td>\n",
       "      <td>1</td>\n",
       "      <td>0</td>\n",
       "      <td>0</td>\n",
       "      <td>1</td>\n",
       "      <td>1</td>\n",
       "      <td>0</td>\n",
       "      <td>0</td>\n",
       "      <td>0</td>\n",
       "      <td>0</td>\n",
       "      <td>0</td>\n",
       "      <td>0</td>\n",
       "      <td>1</td>\n",
       "      <td>0</td>\n",
       "      <td>0</td>\n",
       "      <td>0</td>\n",
       "      <td>0</td>\n",
       "      <td>0</td>\n",
       "      <td>0</td>\n",
       "      <td>0</td>\n",
       "      <td>0</td>\n",
       "      <td>0</td>\n",
       "      <td>0</td>\n",
       "      <td>0</td>\n",
       "      <td>0</td>\n",
       "      <td>0</td>\n",
       "      <td>1</td>\n",
       "      <td>0</td>\n",
       "      <td>0</td>\n",
       "      <td>0</td>\n",
       "      <td>0</td>\n",
       "      <td>0</td>\n",
       "      <td>0</td>\n",
       "      <td>0</td>\n",
       "      <td>0</td>\n",
       "      <td>0</td>\n",
       "      <td>0</td>\n",
       "      <td>0</td>\n",
       "      <td>0</td>\n",
       "      <td>0</td>\n",
       "      <td>0</td>\n",
       "      <td>0</td>\n",
       "    </tr>\n",
       "    <tr>\n",
       "      <th>578241</th>\n",
       "      <td>1</td>\n",
       "      <td>-73.956009</td>\n",
       "      <td>40.781418</td>\n",
       "      <td>-73.969963</td>\n",
       "      <td>40.757256</td>\n",
       "      <td>699</td>\n",
       "      <td>2.930457</td>\n",
       "      <td>15.092482</td>\n",
       "      <td>1</td>\n",
       "      <td>0</td>\n",
       "      <td>1</td>\n",
       "      <td>0</td>\n",
       "      <td>0</td>\n",
       "      <td>0</td>\n",
       "      <td>0</td>\n",
       "      <td>0</td>\n",
       "      <td>0</td>\n",
       "      <td>1</td>\n",
       "      <td>0</td>\n",
       "      <td>0</td>\n",
       "      <td>0</td>\n",
       "      <td>0</td>\n",
       "      <td>0</td>\n",
       "      <td>1</td>\n",
       "      <td>0</td>\n",
       "      <td>0</td>\n",
       "      <td>0</td>\n",
       "      <td>0</td>\n",
       "      <td>0</td>\n",
       "      <td>0</td>\n",
       "      <td>0</td>\n",
       "      <td>0</td>\n",
       "      <td>0</td>\n",
       "      <td>0</td>\n",
       "      <td>0</td>\n",
       "      <td>0</td>\n",
       "      <td>0</td>\n",
       "      <td>1</td>\n",
       "      <td>0</td>\n",
       "      <td>0</td>\n",
       "      <td>0</td>\n",
       "      <td>0</td>\n",
       "      <td>0</td>\n",
       "      <td>0</td>\n",
       "      <td>0</td>\n",
       "      <td>0</td>\n",
       "      <td>0</td>\n",
       "      <td>0</td>\n",
       "      <td>0</td>\n",
       "    </tr>\n",
       "    <tr>\n",
       "      <th>465822</th>\n",
       "      <td>2</td>\n",
       "      <td>-73.975937</td>\n",
       "      <td>40.789188</td>\n",
       "      <td>-73.983742</td>\n",
       "      <td>40.738228</td>\n",
       "      <td>1469</td>\n",
       "      <td>5.697376</td>\n",
       "      <td>13.962255</td>\n",
       "      <td>1</td>\n",
       "      <td>0</td>\n",
       "      <td>0</td>\n",
       "      <td>1</td>\n",
       "      <td>0</td>\n",
       "      <td>0</td>\n",
       "      <td>0</td>\n",
       "      <td>0</td>\n",
       "      <td>0</td>\n",
       "      <td>1</td>\n",
       "      <td>0</td>\n",
       "      <td>0</td>\n",
       "      <td>0</td>\n",
       "      <td>0</td>\n",
       "      <td>0</td>\n",
       "      <td>0</td>\n",
       "      <td>1</td>\n",
       "      <td>0</td>\n",
       "      <td>0</td>\n",
       "      <td>0</td>\n",
       "      <td>0</td>\n",
       "      <td>0</td>\n",
       "      <td>0</td>\n",
       "      <td>0</td>\n",
       "      <td>0</td>\n",
       "      <td>0</td>\n",
       "      <td>0</td>\n",
       "      <td>0</td>\n",
       "      <td>0</td>\n",
       "      <td>0</td>\n",
       "      <td>0</td>\n",
       "      <td>1</td>\n",
       "      <td>0</td>\n",
       "      <td>0</td>\n",
       "      <td>0</td>\n",
       "      <td>0</td>\n",
       "      <td>0</td>\n",
       "      <td>0</td>\n",
       "      <td>0</td>\n",
       "      <td>0</td>\n",
       "      <td>0</td>\n",
       "    </tr>\n",
       "    <tr>\n",
       "      <th>401876</th>\n",
       "      <td>6</td>\n",
       "      <td>-73.972420</td>\n",
       "      <td>40.759460</td>\n",
       "      <td>-73.983292</td>\n",
       "      <td>40.731548</td>\n",
       "      <td>1289</td>\n",
       "      <td>3.232760</td>\n",
       "      <td>9.028654</td>\n",
       "      <td>1</td>\n",
       "      <td>0</td>\n",
       "      <td>0</td>\n",
       "      <td>1</td>\n",
       "      <td>0</td>\n",
       "      <td>0</td>\n",
       "      <td>0</td>\n",
       "      <td>0</td>\n",
       "      <td>1</td>\n",
       "      <td>0</td>\n",
       "      <td>0</td>\n",
       "      <td>0</td>\n",
       "      <td>0</td>\n",
       "      <td>1</td>\n",
       "      <td>0</td>\n",
       "      <td>0</td>\n",
       "      <td>0</td>\n",
       "      <td>0</td>\n",
       "      <td>0</td>\n",
       "      <td>0</td>\n",
       "      <td>0</td>\n",
       "      <td>0</td>\n",
       "      <td>0</td>\n",
       "      <td>0</td>\n",
       "      <td>0</td>\n",
       "      <td>0</td>\n",
       "      <td>0</td>\n",
       "      <td>1</td>\n",
       "      <td>0</td>\n",
       "      <td>0</td>\n",
       "      <td>0</td>\n",
       "      <td>0</td>\n",
       "      <td>0</td>\n",
       "      <td>0</td>\n",
       "      <td>0</td>\n",
       "      <td>0</td>\n",
       "      <td>0</td>\n",
       "      <td>0</td>\n",
       "      <td>0</td>\n",
       "      <td>0</td>\n",
       "      <td>0</td>\n",
       "    </tr>\n",
       "  </tbody>\n",
       "</table>\n",
       "</div>"
      ],
      "text/plain": [
       "        passenger_count  pickup_longitude  pickup_latitude  dropoff_longitude  \\\n",
       "442369                1        -73.988716        40.768974         -74.009560   \n",
       "218492                5        -73.945152        40.778797         -73.958534   \n",
       "578241                1        -73.956009        40.781418         -73.969963   \n",
       "465822                2        -73.975937        40.789188         -73.983742   \n",
       "401876                6        -73.972420        40.759460         -73.983292   \n",
       "\n",
       "        dropoff_latitude  trip_duration  distance      speed  flag_N  flag_Y  \\\n",
       "442369         40.706268           1161  7.182553  22.271482       1       0   \n",
       "218492         40.764778            765  1.923542   9.051964       1       0   \n",
       "578241         40.757256            699  2.930457  15.092482       1       0   \n",
       "465822         40.738228           1469  5.697376  13.962255       1       0   \n",
       "401876         40.731548           1289  3.232760   9.028654       1       0   \n",
       "\n",
       "        vendor_id_1  vendor_id_2  month_1  month_2  month_3  month_4  month_5  \\\n",
       "442369            1            0        0        0        1        0        0   \n",
       "218492            0            1        1        0        0        0        0   \n",
       "578241            1            0        0        0        0        0        0   \n",
       "465822            0            1        0        0        0        0        0   \n",
       "401876            0            1        0        0        0        0        1   \n",
       "\n",
       "        month_6  day_number_0  day_number_1  day_number_2  day_number_3  \\\n",
       "442369        0             0             0             0             0   \n",
       "218492        0             0             1             0             0   \n",
       "578241        1             0             0             0             0   \n",
       "465822        1             0             0             0             0   \n",
       "401876        0             0             0             0             1   \n",
       "\n",
       "        day_number_4  day_number_5  day_number_6  pickup_hour_0  \\\n",
       "442369             0             1             0              1   \n",
       "218492             0             0             0              0   \n",
       "578241             0             1             0              0   \n",
       "465822             0             0             1              0   \n",
       "401876             0             0             0              0   \n",
       "\n",
       "        pickup_hour_1  pickup_hour_2  pickup_hour_3  pickup_hour_4  \\\n",
       "442369              0              0              0              0   \n",
       "218492              0              0              0              0   \n",
       "578241              0              0              0              0   \n",
       "465822              0              0              0              0   \n",
       "401876              0              0              0              0   \n",
       "\n",
       "        pickup_hour_5  pickup_hour_6  pickup_hour_7  pickup_hour_8  \\\n",
       "442369              0              0              0              0   \n",
       "218492              0              0              0              1   \n",
       "578241              0              0              0              0   \n",
       "465822              0              0              0              0   \n",
       "401876              0              0              0              0   \n",
       "\n",
       "        pickup_hour_9  pickup_hour_10  pickup_hour_11  pickup_hour_12  \\\n",
       "442369              0               0               0               0   \n",
       "218492              0               0               0               0   \n",
       "578241              0               0               0               1   \n",
       "465822              0               0               0               0   \n",
       "401876              0               1               0               0   \n",
       "\n",
       "        pickup_hour_13  pickup_hour_14  pickup_hour_15  pickup_hour_16  \\\n",
       "442369               0               0               0               0   \n",
       "218492               0               0               0               0   \n",
       "578241               0               0               0               0   \n",
       "465822               0               1               0               0   \n",
       "401876               0               0               0               0   \n",
       "\n",
       "        pickup_hour_17  pickup_hour_18  pickup_hour_19  pickup_hour_20  \\\n",
       "442369               0               0               0               0   \n",
       "218492               0               0               0               0   \n",
       "578241               0               0               0               0   \n",
       "465822               0               0               0               0   \n",
       "401876               0               0               0               0   \n",
       "\n",
       "        pickup_hour_21  pickup_hour_22  pickup_hour_23  \n",
       "442369               0               0               0  \n",
       "218492               0               0               0  \n",
       "578241               0               0               0  \n",
       "465822               0               0               0  \n",
       "401876               0               0               0  "
      ]
     },
     "execution_count": 43,
     "metadata": {},
     "output_type": "execute_result"
    }
   ],
   "source": [
    "test.head()"
   ]
  },
  {
   "cell_type": "markdown",
   "id": "aff7bd3b",
   "metadata": {},
   "source": [
    "### Calculating Mean of trip duration"
   ]
  },
  {
   "cell_type": "code",
   "execution_count": 44,
   "id": "21d01d72",
   "metadata": {},
   "outputs": [],
   "source": [
    "test['simple_mean'] = train['trip_duration'].mean()"
   ]
  },
  {
   "cell_type": "code",
   "execution_count": 45,
   "id": "9d692b7f",
   "metadata": {},
   "outputs": [
    {
     "data": {
      "text/plain": [
       "303.0333522454909"
      ]
     },
     "execution_count": 45,
     "metadata": {},
     "output_type": "execute_result"
    }
   ],
   "source": [
    "#calculating mean absolute error\n",
    "from sklearn.metrics import mean_absolute_error as MAE\n",
    "\n",
    "simple_mean_error = MAE(test['trip_duration'] , test['simple_mean'])\n",
    "simple_mean_error"
   ]
  },
  {
   "cell_type": "code",
   "execution_count": 46,
   "id": "1bb46733",
   "metadata": {},
   "outputs": [
    {
     "data": {
      "text/html": [
       "<div>\n",
       "<style scoped>\n",
       "    .dataframe tbody tr th:only-of-type {\n",
       "        vertical-align: middle;\n",
       "    }\n",
       "\n",
       "    .dataframe tbody tr th {\n",
       "        vertical-align: top;\n",
       "    }\n",
       "\n",
       "    .dataframe thead th {\n",
       "        text-align: right;\n",
       "    }\n",
       "</style>\n",
       "<table border=\"1\" class=\"dataframe\">\n",
       "  <thead>\n",
       "    <tr style=\"text-align: right;\">\n",
       "      <th></th>\n",
       "      <th>trip_duration</th>\n",
       "    </tr>\n",
       "    <tr>\n",
       "      <th>passenger_count</th>\n",
       "      <th></th>\n",
       "    </tr>\n",
       "  </thead>\n",
       "  <tbody>\n",
       "    <tr>\n",
       "      <th>1</th>\n",
       "      <td>729.860486</td>\n",
       "    </tr>\n",
       "    <tr>\n",
       "      <th>2</th>\n",
       "      <td>744.204186</td>\n",
       "    </tr>\n",
       "    <tr>\n",
       "      <th>3</th>\n",
       "      <td>745.634200</td>\n",
       "    </tr>\n",
       "    <tr>\n",
       "      <th>4</th>\n",
       "      <td>755.004229</td>\n",
       "    </tr>\n",
       "    <tr>\n",
       "      <th>5</th>\n",
       "      <td>734.642226</td>\n",
       "    </tr>\n",
       "    <tr>\n",
       "      <th>6</th>\n",
       "      <td>732.259877</td>\n",
       "    </tr>\n",
       "  </tbody>\n",
       "</table>\n",
       "</div>"
      ],
      "text/plain": [
       "                 trip_duration\n",
       "passenger_count               \n",
       "1                   729.860486\n",
       "2                   744.204186\n",
       "3                   745.634200\n",
       "4                   755.004229\n",
       "5                   734.642226\n",
       "6                   732.259877"
      ]
     },
     "execution_count": 46,
     "metadata": {},
     "output_type": "execute_result"
    }
   ],
   "source": [
    "individual_passenger = pd.pivot_table(train, values='trip_duration', index = ['passenger_count'], aggfunc=np.mean)\n",
    "individual_passenger"
   ]
  },
  {
   "cell_type": "code",
   "execution_count": 47,
   "id": "8cb4f68f",
   "metadata": {},
   "outputs": [],
   "source": [
    "# Initializing new column to zero\n",
    "test['individual_passenger_mean'] = 0\n",
    "\n",
    "# For every unique entry in Outlet_Identifier\n",
    "for i in train['passenger_count'].unique():\n",
    "  # Assign the mean value corresponding to unique entry\n",
    "  test['individual_passenger_mean'][test['passenger_count'] == str(i)] = train['trip_duration'][train['passenger_count'] == str(i)].mean()"
   ]
  },
  {
   "cell_type": "code",
   "execution_count": 48,
   "id": "487bcb18",
   "metadata": {},
   "outputs": [
    {
     "data": {
      "text/plain": [
       "735.4208890009243"
      ]
     },
     "execution_count": 48,
     "metadata": {},
     "output_type": "execute_result"
    }
   ],
   "source": [
    "# calculating mean absolute error\n",
    "\n",
    "individual_passenger_error = MAE(test['trip_duration'] , test['individual_passenger_mean'] )\n",
    "individual_passenger_error"
   ]
  },
  {
   "cell_type": "code",
   "execution_count": 49,
   "id": "2f489ac0",
   "metadata": {},
   "outputs": [
    {
     "data": {
      "text/plain": [
       "<BarContainer object of 2 artists>"
      ]
     },
     "execution_count": 49,
     "metadata": {},
     "output_type": "execute_result"
    },
    {
     "data": {
      "image/png": "[encoded data removed]",
      "text/plain": [
       "<Figure size 960x720 with 1 Axes>"
      ]
     },
     "metadata": {},
     "output_type": "display_data"
    }
   ],
   "source": [
    "# Camparing Overall mean and mean with specific variable (passenger_count)\n",
    "plt.figure(figsize=(8, 6), dpi=120, facecolor='w', edgecolor='b')\n",
    "comparision = ['mean_trip_duration Vs Overall_mean','mean_trip_duration Vs passenger_count']\n",
    "mean_error = [614.1298112263503,945.3794520418838]\n",
    "\n",
    "colors = ['green','red']\n",
    "\n",
    "plt.bar(comparision, mean_error, color = colors, edgecolor= 'black')"
   ]
  },
  {
   "cell_type": "markdown",
   "id": "0bf52434",
   "metadata": {},
   "source": [
    "    As we can see the mean error increases while comparing with a specific variable, therefore it is better to keep it with Overall mean."
   ]
  },
  {
   "cell_type": "markdown",
   "id": "e623878c",
   "metadata": {},
   "source": [
    "# End Of Bench Mark"
   ]
  },
  {
   "cell_type": "markdown",
   "id": "309d6e7c",
   "metadata": {},
   "source": [
    "# Evalution Metrics"
   ]
  },
  {
   "cell_type": "code",
   "execution_count": 50,
   "id": "7b9759d1",
   "metadata": {},
   "outputs": [],
   "source": [
    "# Creating a raw data copy\n",
    "data_copy = data"
   ]
  },
  {
   "cell_type": "code",
   "execution_count": 51,
   "id": "2648219f",
   "metadata": {},
   "outputs": [],
   "source": [
    "from sklearn.utils import shuffle\n",
    "# Shuffling the dataset\n",
    "data_copy = shuffle(data_copy, random_state = 30)\n",
    "\n",
    "# Creating 4 divisions\n",
    "div = int(data_copy.shape[0]/4)\n",
    "\n",
    "# We will divide the 4 division - 3 for training part and 1 for testing\n",
    "train = data_copy.loc[:3*div+1,:]\n",
    "test = data_copy.loc[3*div+1:]"
   ]
  },
  {
   "cell_type": "markdown",
   "id": "e2dcdba7",
   "metadata": {},
   "source": [
    "### Calculating Mean of trip duration"
   ]
  },
  {
   "cell_type": "code",
   "execution_count": 52,
   "id": "e1a8e336",
   "metadata": {},
   "outputs": [
    {
     "data": {
      "text/plain": [
       "302.9278566742911"
      ]
     },
     "execution_count": 52,
     "metadata": {},
     "output_type": "execute_result"
    }
   ],
   "source": [
    "# storing mean in the test set as a new column\n",
    "test['mean'] = train['trip_duration'].mean()\n",
    "\n",
    "# calculating mean absolute error\n",
    "from sklearn.metrics import mean_absolute_error as MAE\n",
    "mean_error = MAE(test['trip_duration'], test['mean'])\n",
    "mean_error"
   ]
  },
  {
   "cell_type": "markdown",
   "id": "8a17ed66",
   "metadata": {},
   "source": [
    "    I have taken the most appropriate Evaluation metric for this dataset, ( Mean Absolute Error )because I have used the distance and speed variable concept which is related to time duration also most of the outliers in the data are removed and so mean squared or root mean squared error will not be felt required"
   ]
  },
  {
   "cell_type": "markdown",
   "id": "b0f1be55",
   "metadata": {},
   "source": [
    "# Normalizing Data"
   ]
  },
  {
   "cell_type": "code",
   "execution_count": 53,
   "id": "9fd63536",
   "metadata": {},
   "outputs": [
    {
     "data": {
      "text/plain": [
       "((589827, 48), (589827,))"
      ]
     },
     "execution_count": 53,
     "metadata": {},
     "output_type": "execute_result"
    }
   ],
   "source": [
    "# separating independent and dependent variables\n",
    "x5 = data.drop(['trip_duration'], axis =1)\n",
    "y5 = data['trip_duration']\n",
    "x5.shape, y5.shape"
   ]
  },
  {
   "cell_type": "code",
   "execution_count": 54,
   "id": "d8e94f9d",
   "metadata": {},
   "outputs": [],
   "source": [
    "# Importing the train test split function\n",
    "from sklearn.model_selection import train_test_split\n",
    "train_x5, test_x5, train_y5, test_y5 = train_test_split(x5, y5, random_state = 65)"
   ]
  },
  {
   "cell_type": "code",
   "execution_count": 55,
   "id": "216249e9",
   "metadata": {},
   "outputs": [],
   "source": [
    "#importing Linear Regression and metric mean square error\n",
    "from sklearn.linear_model import LinearRegression as LR\n",
    "from sklearn.metrics import mean_absolute_error as mae"
   ]
  },
  {
   "cell_type": "code",
   "execution_count": 56,
   "id": "9be6e0ea",
   "metadata": {},
   "outputs": [
    {
     "data": {
      "text/plain": [
       "LinearRegression()"
      ]
     },
     "execution_count": 56,
     "metadata": {},
     "output_type": "execute_result"
    }
   ],
   "source": [
    "# Creating instance of Linear Regresssion\n",
    "lr = LR()\n",
    "\n",
    "# Fitting the model\n",
    "lr.fit(train_x5, train_y5)"
   ]
  },
  {
   "cell_type": "code",
   "execution_count": 57,
   "id": "38da55b0",
   "metadata": {},
   "outputs": [
    {
     "name": "stdout",
     "output_type": "stream",
     "text": [
      "Test Mean Absolute Error     106.21620542212094\n"
     ]
    }
   ],
   "source": [
    "# Predicting over the Test Set and calculating error\n",
    "test_predict = lr.predict(test_x5)\n",
    "k = mae(test_predict, test_y5)\n",
    "print('Test Mean Absolute Error    ', k )"
   ]
  },
  {
   "cell_type": "code",
   "execution_count": 58,
   "id": "543fae3b",
   "metadata": {},
   "outputs": [
    {
     "data": {
      "text/html": [
       "<div>\n",
       "<style scoped>\n",
       "    .dataframe tbody tr th:only-of-type {\n",
       "        vertical-align: middle;\n",
       "    }\n",
       "\n",
       "    .dataframe tbody tr th {\n",
       "        vertical-align: top;\n",
       "    }\n",
       "\n",
       "    .dataframe thead th {\n",
       "        text-align: right;\n",
       "    }\n",
       "</style>\n",
       "<table border=\"1\" class=\"dataframe\">\n",
       "  <thead>\n",
       "    <tr style=\"text-align: right;\">\n",
       "      <th></th>\n",
       "      <th>fitted values</th>\n",
       "      <th>predicted values</th>\n",
       "      <th>residuals</th>\n",
       "    </tr>\n",
       "  </thead>\n",
       "  <tbody>\n",
       "    <tr>\n",
       "      <th>169622</th>\n",
       "      <td>1232</td>\n",
       "      <td>1024.039062</td>\n",
       "      <td>207.960938</td>\n",
       "    </tr>\n",
       "    <tr>\n",
       "      <th>481263</th>\n",
       "      <td>611</td>\n",
       "      <td>627.422852</td>\n",
       "      <td>-16.422852</td>\n",
       "    </tr>\n",
       "    <tr>\n",
       "      <th>398264</th>\n",
       "      <td>756</td>\n",
       "      <td>781.780273</td>\n",
       "      <td>-25.780273</td>\n",
       "    </tr>\n",
       "    <tr>\n",
       "      <th>443465</th>\n",
       "      <td>493</td>\n",
       "      <td>650.708984</td>\n",
       "      <td>-157.708984</td>\n",
       "    </tr>\n",
       "    <tr>\n",
       "      <th>519950</th>\n",
       "      <td>371</td>\n",
       "      <td>559.062500</td>\n",
       "      <td>-188.062500</td>\n",
       "    </tr>\n",
       "  </tbody>\n",
       "</table>\n",
       "</div>"
      ],
      "text/plain": [
       "        fitted values  predicted values   residuals\n",
       "169622           1232       1024.039062  207.960938\n",
       "481263            611        627.422852  -16.422852\n",
       "398264            756        781.780273  -25.780273\n",
       "443465            493        650.708984 -157.708984\n",
       "519950            371        559.062500 -188.062500"
      ]
     },
     "execution_count": 58,
     "metadata": {},
     "output_type": "execute_result"
    }
   ],
   "source": [
    "# Arranging and calculating the Residuals\n",
    "residuals = pd.DataFrame({\n",
    "    'fitted values' : test_y5,\n",
    "    'predicted values' : test_predict,\n",
    "})\n",
    "\n",
    "residuals['residuals'] = residuals['fitted values'] - residuals['predicted values']\n",
    "residuals.head()"
   ]
  },
  {
   "cell_type": "markdown",
   "id": "87e32abc",
   "metadata": {},
   "source": [
    "## Checking Whether Data is Normally Distributed ?"
   ]
  },
  {
   "cell_type": "code",
   "execution_count": 59,
   "id": "4bd66e69",
   "metadata": {},
   "outputs": [
    {
     "data": {
      "image/png": "[encoded data removed]",
      "text/plain": [
       "<Figure size 600x600 with 1 Axes>"
      ]
     },
     "metadata": {
      "needs_background": "light"
     },
     "output_type": "display_data"
    }
   ],
   "source": [
    "# importing the QQ-plot from the from the statsmodels\n",
    "from statsmodels.graphics.gofplots import qqplot\n",
    "\n",
    "## Plotting the QQ plot\n",
    "fig, ax = plt.subplots(figsize=(5,5) , dpi = 120)\n",
    "qqplot(residuals.residuals, line = 's' , ax = ax)\n",
    "plt.ylabel('Residual Quantiles')\n",
    "plt.xlabel('Ideal Scaled Quantiles')\n",
    "plt.title('Checking distribution of Residual Errors')\n",
    "plt.show()"
   ]
  },
  {
   "cell_type": "code",
   "execution_count": null,
   "id": "4b7321bf",
   "metadata": {},
   "outputs": [],
   "source": []
  },
  {
   "cell_type": "markdown",
   "id": "a5952a30",
   "metadata": {},
   "source": [
    "## Variance Inflation Factor (VIF) (Checking for multi collinearity)"
   ]
  },
  {
   "cell_type": "code",
   "execution_count": 60,
   "id": "6a771c50",
   "metadata": {},
   "outputs": [
    {
     "data": {
      "text/plain": [
       "passenger_count       1.092383\n",
       "pickup_longitude      1.662510\n",
       "pickup_latitude       1.850785\n",
       "dropoff_longitude     1.760446\n",
       "dropoff_latitude      1.845088\n",
       "trip_duration         6.086708\n",
       "distance             10.064711\n",
       "speed                 5.707403\n",
       "flag_N                     inf\n",
       "flag_Y                     inf\n",
       "vendor_id_1                inf\n",
       "vendor_id_2                inf\n",
       "month_1                    inf\n",
       "month_2                    inf\n",
       "month_3                    inf\n",
       "month_4                    inf\n",
       "month_5                    inf\n",
       "month_6                    inf\n",
       "day_number_0               inf\n",
       "day_number_1               inf\n",
       "day_number_2               inf\n",
       "day_number_3               inf\n",
       "day_number_4               inf\n",
       "day_number_5               inf\n",
       "day_number_6               inf\n",
       "pickup_hour_0              inf\n",
       "pickup_hour_1              inf\n",
       "pickup_hour_2              inf\n",
       "pickup_hour_3              inf\n",
       "pickup_hour_4              inf\n",
       "pickup_hour_5              inf\n",
       "pickup_hour_6              inf\n",
       "pickup_hour_7              inf\n",
       "pickup_hour_8              inf\n",
       "pickup_hour_9              inf\n",
       "pickup_hour_10             inf\n",
       "pickup_hour_11             inf\n",
       "pickup_hour_12             inf\n",
       "pickup_hour_13             inf\n",
       "pickup_hour_14             inf\n",
       "pickup_hour_15             inf\n",
       "pickup_hour_16             inf\n",
       "pickup_hour_17             inf\n",
       "pickup_hour_18             inf\n",
       "pickup_hour_19             inf\n",
       "pickup_hour_20             inf\n",
       "pickup_hour_21             inf\n",
       "pickup_hour_22             inf\n",
       "pickup_hour_23             inf\n",
       "dtype: float64"
      ]
     },
     "execution_count": 60,
     "metadata": {},
     "output_type": "execute_result"
    }
   ],
   "source": [
    "# Importing Variance_inflation_Factor funtion from the Statsmodels\n",
    "from statsmodels.stats.outliers_influence import variance_inflation_factor\n",
    "from statsmodels.tools.tools import add_constant\n",
    "\n",
    "# Calculating VIF for every column (only works for the not Catagorical)\n",
    "VIF = pd.Series([variance_inflation_factor(data.values, i) for i in range(data.shape[1])], index =data.columns)\n",
    "VIF"
   ]
  },
  {
   "cell_type": "code",
   "execution_count": 61,
   "id": "011acafd",
   "metadata": {},
   "outputs": [
    {
     "data": {
      "text/plain": [
       "LinearRegression(normalize=True)"
      ]
     },
     "execution_count": 61,
     "metadata": {},
     "output_type": "execute_result"
    }
   ],
   "source": [
    "# Creating instance of Linear Regresssion\n",
    "lr = LR(normalize = True)\n",
    "\n",
    "# Fitting the model\n",
    "lr.fit(train_x5, train_y5)"
   ]
  },
  {
   "cell_type": "code",
   "execution_count": 62,
   "id": "3e880f3f",
   "metadata": {},
   "outputs": [],
   "source": [
    "from sklearn.metrics import mean_absolute_error as mae"
   ]
  },
  {
   "cell_type": "code",
   "execution_count": 63,
   "id": "09993ebe",
   "metadata": {},
   "outputs": [
    {
     "name": "stdout",
     "output_type": "stream",
     "text": [
      "Training Mean Absolute Error 106.32323196645342\n"
     ]
    }
   ],
   "source": [
    "# Predicting over the Train Set and calculating error\n",
    "train_predict = lr.predict(train_x5)\n",
    "k = mae(train_predict, train_y5)\n",
    "print('Training Mean Absolute Error', k )"
   ]
  },
  {
   "cell_type": "code",
   "execution_count": 64,
   "id": "ceb66b00",
   "metadata": {},
   "outputs": [
    {
     "name": "stdout",
     "output_type": "stream",
     "text": [
      "Test Mean Absolute Error     106.21030876797981\n"
     ]
    }
   ],
   "source": [
    "# Predicting over the Test Set and calculating error\n",
    "test_predict = lr.predict(test_x5)\n",
    "k = mae(test_predict, test_y5)\n",
    "print('Test Mean Absolute Error    ', k )"
   ]
  },
  {
   "cell_type": "code",
   "execution_count": 65,
   "id": "24dcfbe6",
   "metadata": {},
   "outputs": [
    {
     "data": {
      "text/plain": [
       "Text(0.5, 1.0, 'Normalized Coefficient plot')"
      ]
     },
     "execution_count": 65,
     "metadata": {},
     "output_type": "execute_result"
    },
    {
     "data": {
      "image/png": "[encoded data removed]",
      "text/plain": [
       "<Figure size 960x720 with 1 Axes>"
      ]
     },
     "metadata": {},
     "output_type": "display_data"
    }
   ],
   "source": [
    "plt.figure(figsize=(8, 6), dpi=120, facecolor='w', edgecolor='b')\n",
    "x = range(len(train_x5.columns))\n",
    "y = lr.coef_\n",
    "plt.bar( x, y )\n",
    "plt.xlabel( \"Variables\")\n",
    "plt.ylabel('Coefficients')\n",
    "plt.title('Normalized Coefficient plot')"
   ]
  },
  {
   "cell_type": "markdown",
   "id": "301a2973",
   "metadata": {},
   "source": [
    "### Creating new subsets of data"
   ]
  },
  {
   "cell_type": "code",
   "execution_count": 66,
   "id": "e64601e7",
   "metadata": {},
   "outputs": [
    {
     "data": {
      "text/plain": [
       "((589827, 48), (589827,))"
      ]
     },
     "execution_count": 66,
     "metadata": {},
     "output_type": "execute_result"
    }
   ],
   "source": [
    "#seperating independent and dependent variables\n",
    "x = data.drop(['trip_duration'], axis=1)\n",
    "y = data['trip_duration']\n",
    "x.shape, y.shape"
   ]
  },
  {
   "cell_type": "markdown",
   "id": "9f107a59",
   "metadata": {},
   "source": [
    "### Arranging coefficients with features"
   ]
  },
  {
   "cell_type": "code",
   "execution_count": 67,
   "id": "d72b7b6a",
   "metadata": {},
   "outputs": [
    {
     "data": {
      "text/html": [
       "<div>\n",
       "<style scoped>\n",
       "    .dataframe tbody tr th:only-of-type {\n",
       "        vertical-align: middle;\n",
       "    }\n",
       "\n",
       "    .dataframe tbody tr th {\n",
       "        vertical-align: top;\n",
       "    }\n",
       "\n",
       "    .dataframe thead th {\n",
       "        text-align: right;\n",
       "    }\n",
       "</style>\n",
       "<table border=\"1\" class=\"dataframe\">\n",
       "  <thead>\n",
       "    <tr style=\"text-align: right;\">\n",
       "      <th></th>\n",
       "      <th>Variable</th>\n",
       "      <th>coefficient</th>\n",
       "    </tr>\n",
       "  </thead>\n",
       "  <tbody>\n",
       "    <tr>\n",
       "      <th>0</th>\n",
       "      <td>passenger_count</td>\n",
       "      <td>0.083804</td>\n",
       "    </tr>\n",
       "    <tr>\n",
       "      <th>1</th>\n",
       "      <td>pickup_longitude</td>\n",
       "      <td>-367.766507</td>\n",
       "    </tr>\n",
       "    <tr>\n",
       "      <th>2</th>\n",
       "      <td>pickup_latitude</td>\n",
       "      <td>211.366355</td>\n",
       "    </tr>\n",
       "    <tr>\n",
       "      <th>3</th>\n",
       "      <td>dropoff_longitude</td>\n",
       "      <td>-426.909015</td>\n",
       "    </tr>\n",
       "    <tr>\n",
       "      <th>4</th>\n",
       "      <td>dropoff_latitude</td>\n",
       "      <td>20.686472</td>\n",
       "    </tr>\n",
       "  </tbody>\n",
       "</table>\n",
       "</div>"
      ],
      "text/plain": [
       "            Variable  coefficient\n",
       "0    passenger_count     0.083804\n",
       "1   pickup_longitude  -367.766507\n",
       "2    pickup_latitude   211.366355\n",
       "3  dropoff_longitude  -426.909015\n",
       "4   dropoff_latitude    20.686472"
      ]
     },
     "execution_count": 67,
     "metadata": {},
     "output_type": "execute_result"
    }
   ],
   "source": [
    "Coefficients = pd.DataFrame({\n",
    "    'Variable'    : x.columns,\n",
    "    'coefficient' : lr.coef_\n",
    "})\n",
    "Coefficients.head()"
   ]
  },
  {
   "cell_type": "markdown",
   "id": "cf50396e",
   "metadata": {},
   "source": [
    "### Chossing variables with sigificance greater than 0.5 ( Filtering Significant Features)"
   ]
  },
  {
   "cell_type": "code",
   "execution_count": 68,
   "id": "0f1d5085",
   "metadata": {},
   "outputs": [],
   "source": [
    "sig_var = Coefficients[Coefficients.coefficient > 0.5]"
   ]
  },
  {
   "cell_type": "markdown",
   "id": "6f14a0f7",
   "metadata": {},
   "source": [
    "### Extracting the significant subset do independent Variables"
   ]
  },
  {
   "cell_type": "code",
   "execution_count": 69,
   "id": "20ca903d",
   "metadata": {},
   "outputs": [
    {
     "data": {
      "text/html": [
       "<div>\n",
       "<style scoped>\n",
       "    .dataframe tbody tr th:only-of-type {\n",
       "        vertical-align: middle;\n",
       "    }\n",
       "\n",
       "    .dataframe tbody tr th {\n",
       "        vertical-align: top;\n",
       "    }\n",
       "\n",
       "    .dataframe thead th {\n",
       "        text-align: right;\n",
       "    }\n",
       "</style>\n",
       "<table border=\"1\" class=\"dataframe\">\n",
       "  <thead>\n",
       "    <tr style=\"text-align: right;\">\n",
       "      <th></th>\n",
       "      <th>pickup_latitude</th>\n",
       "      <th>dropoff_latitude</th>\n",
       "      <th>distance</th>\n",
       "      <th>month_1</th>\n",
       "      <th>month_2</th>\n",
       "      <th>month_3</th>\n",
       "      <th>month_4</th>\n",
       "      <th>month_5</th>\n",
       "      <th>month_6</th>\n",
       "    </tr>\n",
       "  </thead>\n",
       "  <tbody>\n",
       "    <tr>\n",
       "      <th>498628</th>\n",
       "      <td>40.758884</td>\n",
       "      <td>40.771729</td>\n",
       "      <td>1.427403</td>\n",
       "      <td>0</td>\n",
       "      <td>0</td>\n",
       "      <td>0</td>\n",
       "      <td>0</td>\n",
       "      <td>1</td>\n",
       "      <td>0</td>\n",
       "    </tr>\n",
       "    <tr>\n",
       "      <th>288589</th>\n",
       "      <td>40.790512</td>\n",
       "      <td>40.799870</td>\n",
       "      <td>1.124150</td>\n",
       "      <td>0</td>\n",
       "      <td>0</td>\n",
       "      <td>0</td>\n",
       "      <td>1</td>\n",
       "      <td>0</td>\n",
       "      <td>0</td>\n",
       "    </tr>\n",
       "    <tr>\n",
       "      <th>726002</th>\n",
       "      <td>40.737881</td>\n",
       "      <td>40.717117</td>\n",
       "      <td>2.531682</td>\n",
       "      <td>0</td>\n",
       "      <td>0</td>\n",
       "      <td>0</td>\n",
       "      <td>0</td>\n",
       "      <td>1</td>\n",
       "      <td>0</td>\n",
       "    </tr>\n",
       "    <tr>\n",
       "      <th>171668</th>\n",
       "      <td>40.701706</td>\n",
       "      <td>40.734188</td>\n",
       "      <td>3.703159</td>\n",
       "      <td>0</td>\n",
       "      <td>0</td>\n",
       "      <td>0</td>\n",
       "      <td>0</td>\n",
       "      <td>1</td>\n",
       "      <td>0</td>\n",
       "    </tr>\n",
       "    <tr>\n",
       "      <th>140184</th>\n",
       "      <td>40.777870</td>\n",
       "      <td>40.770100</td>\n",
       "      <td>1.019526</td>\n",
       "      <td>1</td>\n",
       "      <td>0</td>\n",
       "      <td>0</td>\n",
       "      <td>0</td>\n",
       "      <td>0</td>\n",
       "      <td>0</td>\n",
       "    </tr>\n",
       "  </tbody>\n",
       "</table>\n",
       "</div>"
      ],
      "text/plain": [
       "        pickup_latitude  dropoff_latitude  distance  month_1  month_2  \\\n",
       "498628        40.758884         40.771729  1.427403        0        0   \n",
       "288589        40.790512         40.799870  1.124150        0        0   \n",
       "726002        40.737881         40.717117  2.531682        0        0   \n",
       "171668        40.701706         40.734188  3.703159        0        0   \n",
       "140184        40.777870         40.770100  1.019526        1        0   \n",
       "\n",
       "        month_3  month_4  month_5  month_6  \n",
       "498628        0        0        1        0  \n",
       "288589        0        1        0        0  \n",
       "726002        0        0        1        0  \n",
       "171668        0        0        1        0  \n",
       "140184        0        0        0        0  "
      ]
     },
     "execution_count": 69,
     "metadata": {},
     "output_type": "execute_result"
    }
   ],
   "source": [
    "subset = data[sig_var['Variable'].values]\n",
    "subset.head()"
   ]
  },
  {
   "cell_type": "markdown",
   "id": "eb19426a",
   "metadata": {},
   "source": [
    "### Splitting the data into train set and the test set"
   ]
  },
  {
   "cell_type": "code",
   "execution_count": 70,
   "id": "b19fb49e",
   "metadata": {},
   "outputs": [],
   "source": [
    "# Importing the train test split function\n",
    "from sklearn.model_selection import train_test_split\n",
    "train_x,test_x,train_y,test_y = train_test_split(subset, y , random_state = 56)"
   ]
  },
  {
   "cell_type": "markdown",
   "id": "bf88c53c",
   "metadata": {},
   "source": [
    "### Implementing Linear Regression"
   ]
  },
  {
   "cell_type": "code",
   "execution_count": 71,
   "id": "539446e1",
   "metadata": {},
   "outputs": [],
   "source": [
    "#importing Linear Regression and metric mean square error\n",
    "from sklearn.linear_model import LinearRegression as LR\n",
    "from sklearn.metrics import mean_absolute_error as mae"
   ]
  },
  {
   "cell_type": "markdown",
   "id": "dc298df2",
   "metadata": {},
   "source": [
    "### Training Model"
   ]
  },
  {
   "cell_type": "code",
   "execution_count": 72,
   "id": "88ef6d1e",
   "metadata": {},
   "outputs": [
    {
     "data": {
      "text/plain": [
       "LinearRegression(normalize=True)"
      ]
     },
     "execution_count": 72,
     "metadata": {},
     "output_type": "execute_result"
    }
   ],
   "source": [
    "# Creating instance of Linear Regresssion with Normalised Data\n",
    "lr = LR(normalize = True)\n",
    "\n",
    "# Fitting the model\n",
    "lr.fit(train_x, train_y)"
   ]
  },
  {
   "cell_type": "markdown",
   "id": "c96f9ce8",
   "metadata": {},
   "source": [
    "### Predicting over the train set"
   ]
  },
  {
   "cell_type": "code",
   "execution_count": 73,
   "id": "01e30bc2",
   "metadata": {},
   "outputs": [
    {
     "name": "stdout",
     "output_type": "stream",
     "text": [
      "Training Mean Absolute Error 215.31597814047063\n"
     ]
    }
   ],
   "source": [
    "# Predicting over the Train Set and calculating error\n",
    "train_predict = lr.predict(train_x)\n",
    "k = mae(train_predict, train_y)\n",
    "print('Training Mean Absolute Error', k )"
   ]
  },
  {
   "cell_type": "markdown",
   "id": "5be8cdb1",
   "metadata": {},
   "source": [
    "### Predicting over the test set"
   ]
  },
  {
   "cell_type": "code",
   "execution_count": 74,
   "id": "2a430419",
   "metadata": {},
   "outputs": [
    {
     "name": "stdout",
     "output_type": "stream",
     "text": [
      "Test Mean Absolute Error     215.22102375607804\n"
     ]
    }
   ],
   "source": [
    "# Predicting over the Test Set and calculating error\n",
    "test_predict = lr.predict(test_x)\n",
    "k = mae(test_predict, test_y)\n",
    "print('Test Mean Absolute Error    ', k )"
   ]
  },
  {
   "cell_type": "markdown",
   "id": "fd8a104a",
   "metadata": {},
   "source": [
    "### Plotting the coefficients"
   ]
  },
  {
   "cell_type": "code",
   "execution_count": 75,
   "id": "33cedbbf",
   "metadata": {},
   "outputs": [
    {
     "data": {
      "text/plain": [
       "Text(0.5, 1.0, 'Normalized Coefficient plot')"
      ]
     },
     "execution_count": 75,
     "metadata": {},
     "output_type": "execute_result"
    },
    {
     "data": {
      "image/png": "[encoded data removed]",
      "text/plain": [
       "<Figure size 960x720 with 1 Axes>"
      ]
     },
     "metadata": {},
     "output_type": "display_data"
    }
   ],
   "source": [
    "plt.figure(figsize=(8, 6), dpi=120, facecolor='w', edgecolor='b')\n",
    "x = range(len(train_x.columns))\n",
    "y = lr.coef_\n",
    "plt.bar( x, y )\n",
    "plt.xlabel( \"Variables\")\n",
    "plt.ylabel('Coefficients')\n",
    "plt.title('Normalized Coefficient plot')"
   ]
  },
  {
   "cell_type": "markdown",
   "id": "39451b4a",
   "metadata": {},
   "source": [
    "## Linear Regression with Regularization"
   ]
  },
  {
   "cell_type": "code",
   "execution_count": 76,
   "id": "8e13c9ba",
   "metadata": {},
   "outputs": [
    {
     "data": {
      "text/plain": [
       "((589827, 48), (589827,))"
      ]
     },
     "execution_count": 76,
     "metadata": {},
     "output_type": "execute_result"
    }
   ],
   "source": [
    "# separating independent and dependent variables\n",
    "x5 = data.drop(['trip_duration'], axis =1)\n",
    "y5 = data['trip_duration']\n",
    "x5.shape, y5.shape"
   ]
  },
  {
   "cell_type": "code",
   "execution_count": 77,
   "id": "c2fc0f61",
   "metadata": {},
   "outputs": [],
   "source": [
    "# Importing the train test split function\n",
    "from sklearn.model_selection import train_test_split\n",
    "train_x5, test_x5, train_y5, test_y5 = train_test_split(x5, y5, random_state = 65)"
   ]
  },
  {
   "cell_type": "code",
   "execution_count": 78,
   "id": "eed7118a",
   "metadata": {},
   "outputs": [],
   "source": [
    "from sklearn.linear_model import LinearRegression as LR\n",
    "from sklearn.metrics import mean_absolute_error as Mae"
   ]
  },
  {
   "cell_type": "code",
   "execution_count": 79,
   "id": "8f5a9541",
   "metadata": {},
   "outputs": [
    {
     "data": {
      "text/plain": [
       "LinearRegression(normalize=True)"
      ]
     },
     "execution_count": 79,
     "metadata": {},
     "output_type": "execute_result"
    }
   ],
   "source": [
    "# Creating instance of Linear Regression\n",
    "lin_reg = LR(normalize = True)\n",
    "\n",
    "# Fitting the model\n",
    "lin_reg.fit(train_x5, train_y5)\n"
   ]
  },
  {
   "cell_type": "code",
   "execution_count": 80,
   "id": "6610fb7f",
   "metadata": {},
   "outputs": [
    {
     "name": "stdout",
     "output_type": "stream",
     "text": [
      "Training Mean Absolute Error is-  106.32323196645342\n"
     ]
    }
   ],
   "source": [
    "# Predicting over the train set and calculating the errors\n",
    "train_pred = lin_reg.predict(train_x5)\n",
    "k1 = Mae(train_pred, train_y5)\n",
    "print('Training Mean Absolute Error is- ', k1)"
   ]
  },
  {
   "cell_type": "code",
   "execution_count": 81,
   "id": "cb0f9c90",
   "metadata": {},
   "outputs": [
    {
     "name": "stdout",
     "output_type": "stream",
     "text": [
      "Test Mean Absolute Error is-  106.21030876797981\n"
     ]
    }
   ],
   "source": [
    "# Predicting over the test set and calculating the errors\n",
    "test_pred = lin_reg.predict(test_x5)\n",
    "k1 = Mae(test_pred, test_y5)\n",
    "\n",
    "print('Test Mean Absolute Error is- ', k1)\n"
   ]
  },
  {
   "cell_type": "markdown",
   "id": "75394218",
   "metadata": {},
   "source": [
    "### Parameters of Linear Regression\n"
   ]
  },
  {
   "cell_type": "code",
   "execution_count": 82,
   "id": "62883486",
   "metadata": {},
   "outputs": [
    {
     "data": {
      "text/plain": [
       "array([ 8.38042999e-02, -3.67766507e+02,  2.11366355e+02, -4.26909015e+02,\n",
       "        2.06864723e+01,  2.19480572e+02, -4.51807026e+01, -3.35746951e+14,\n",
       "       -3.35746951e+14, -1.06896510e+14, -1.06896510e+14,  7.22817966e+13,\n",
       "        7.22817966e+13,  7.22817966e+13,  7.22817966e+13,  7.22817966e+13,\n",
       "        7.22817966e+13, -2.47132514e+14, -2.47132514e+14, -2.47132514e+14,\n",
       "       -2.47132514e+14, -2.47132514e+14, -2.47132514e+14, -2.47132514e+14,\n",
       "       -2.06815683e+14, -2.06815683e+14, -2.06815683e+14, -2.06815683e+14,\n",
       "       -2.06815683e+14, -2.06815683e+14, -2.06815683e+14, -2.06815683e+14,\n",
       "       -2.06815683e+14, -2.06815683e+14, -2.06815683e+14, -2.06815683e+14,\n",
       "       -2.06815683e+14, -2.06815683e+14, -2.06815683e+14, -2.06815683e+14,\n",
       "       -2.06815683e+14, -2.06815683e+14, -2.06815683e+14, -2.06815683e+14,\n",
       "       -2.06815683e+14, -2.06815683e+14, -2.06815683e+14, -2.06815683e+14])"
      ]
     },
     "execution_count": 82,
     "metadata": {},
     "output_type": "execute_result"
    }
   ],
   "source": [
    "lin_reg.coef_"
   ]
  },
  {
   "cell_type": "code",
   "execution_count": 83,
   "id": "af458b3f",
   "metadata": {},
   "outputs": [
    {
     "data": {
      "text/html": [
       "<div>\n",
       "<style scoped>\n",
       "    .dataframe tbody tr th:only-of-type {\n",
       "        vertical-align: middle;\n",
       "    }\n",
       "\n",
       "    .dataframe tbody tr th {\n",
       "        vertical-align: top;\n",
       "    }\n",
       "\n",
       "    .dataframe thead th {\n",
       "        text-align: right;\n",
       "    }\n",
       "</style>\n",
       "<table border=\"1\" class=\"dataframe\">\n",
       "  <thead>\n",
       "    <tr style=\"text-align: right;\">\n",
       "      <th></th>\n",
       "      <th>fitted values</th>\n",
       "      <th>predicted values</th>\n",
       "      <th>residuals</th>\n",
       "    </tr>\n",
       "  </thead>\n",
       "  <tbody>\n",
       "    <tr>\n",
       "      <th>169622</th>\n",
       "      <td>1232</td>\n",
       "      <td>1024.125</td>\n",
       "      <td>207.875</td>\n",
       "    </tr>\n",
       "    <tr>\n",
       "      <th>481263</th>\n",
       "      <td>611</td>\n",
       "      <td>627.500</td>\n",
       "      <td>-16.500</td>\n",
       "    </tr>\n",
       "    <tr>\n",
       "      <th>398264</th>\n",
       "      <td>756</td>\n",
       "      <td>781.750</td>\n",
       "      <td>-25.750</td>\n",
       "    </tr>\n",
       "    <tr>\n",
       "      <th>443465</th>\n",
       "      <td>493</td>\n",
       "      <td>650.750</td>\n",
       "      <td>-157.750</td>\n",
       "    </tr>\n",
       "    <tr>\n",
       "      <th>519950</th>\n",
       "      <td>371</td>\n",
       "      <td>559.000</td>\n",
       "      <td>-188.000</td>\n",
       "    </tr>\n",
       "  </tbody>\n",
       "</table>\n",
       "</div>"
      ],
      "text/plain": [
       "        fitted values  predicted values  residuals\n",
       "169622           1232          1024.125    207.875\n",
       "481263            611           627.500    -16.500\n",
       "398264            756           781.750    -25.750\n",
       "443465            493           650.750   -157.750\n",
       "519950            371           559.000   -188.000"
      ]
     },
     "execution_count": 83,
     "metadata": {},
     "output_type": "execute_result"
    }
   ],
   "source": [
    "# Arranging and calculating the Residuals\n",
    "residuals = pd.DataFrame({\n",
    "    'fitted values' : test_y5,\n",
    "    'predicted values' : test_pred,\n",
    "})\n",
    "\n",
    "residuals['residuals'] = residuals['fitted values'] - residuals['predicted values']\n",
    "residuals.head()"
   ]
  },
  {
   "cell_type": "markdown",
   "id": "b6fcd10e",
   "metadata": {},
   "source": [
    "\n"
   ]
  },
  {
   "cell_type": "code",
   "execution_count": 84,
   "id": "4e29718f",
   "metadata": {},
   "outputs": [],
   "source": [
    " # Importing Ridge from sklearn\n",
    "from sklearn.linear_model import Ridge\n",
    "from sklearn.linear_model import RidgeCV"
   ]
  },
  {
   "cell_type": "code",
   "execution_count": 85,
   "id": "a4aaaf22",
   "metadata": {},
   "outputs": [],
   "source": [
    "# Creating Ridge Regression with alpha values\n",
    "reg_cv = RidgeCV(alphas = [0.1, 0.5, 1.0, 10.0])"
   ]
  },
  {
   "cell_type": "code",
   "execution_count": 86,
   "id": "6f2750b5",
   "metadata": {},
   "outputs": [],
   "source": [
    "# Fitting the model into ridge cv\n",
    "model_cv = reg_cv.fit(x5, y5)"
   ]
  },
  {
   "cell_type": "code",
   "execution_count": 87,
   "id": "b6c5b4de",
   "metadata": {},
   "outputs": [
    {
     "data": {
      "text/plain": [
       "0.5"
      ]
     },
     "execution_count": 87,
     "metadata": {},
     "output_type": "execute_result"
    }
   ],
   "source": [
    "# Finding the best value of alpha\n",
    "model_cv.alpha_"
   ]
  },
  {
   "cell_type": "code",
   "execution_count": 88,
   "id": "eb5aa696",
   "metadata": {},
   "outputs": [],
   "source": [
    "# Selecting alpha=0.5 for ridge regression\n",
    "rid_reg = Ridge(alpha = 0.5)\n"
   ]
  },
  {
   "cell_type": "code",
   "execution_count": 89,
   "id": "e187a138",
   "metadata": {},
   "outputs": [
    {
     "data": {
      "text/plain": [
       "Ridge(alpha=0.5)"
      ]
     },
     "execution_count": 89,
     "metadata": {},
     "output_type": "execute_result"
    }
   ],
   "source": [
    "# fitting the model on the training set\n",
    "rid_reg.fit(train_x5,train_y5)\n"
   ]
  },
  {
   "cell_type": "code",
   "execution_count": 90,
   "id": "43e7cf11",
   "metadata": {},
   "outputs": [
    {
     "data": {
      "text/plain": [
       "106.32839094330691"
      ]
     },
     "execution_count": 90,
     "metadata": {},
     "output_type": "execute_result"
    }
   ],
   "source": [
    "# Prediction on the training set\n",
    "pred_reg_train = rid_reg.predict(train_x5)\n",
    "linear_train = Mae(train_y5, pred_reg_train)\n",
    "linear_train"
   ]
  },
  {
   "cell_type": "code",
   "execution_count": 91,
   "id": "9341b49a",
   "metadata": {},
   "outputs": [
    {
     "data": {
      "text/plain": [
       "0.648997645476918"
      ]
     },
     "execution_count": 91,
     "metadata": {},
     "output_type": "execute_result"
    }
   ],
   "source": [
    "Linear_training = 1 - (linear_train/mean_error)\n",
    "Linear_training\n"
   ]
  },
  {
   "cell_type": "code",
   "execution_count": 92,
   "id": "01479ec0",
   "metadata": {},
   "outputs": [
    {
     "data": {
      "text/plain": [
       "106.21536270290275"
      ]
     },
     "execution_count": 92,
     "metadata": {},
     "output_type": "execute_result"
    }
   ],
   "source": [
    "# Prediction on the test set\n",
    "pred_reg_test = rid_reg.predict(test_x5)\n",
    "linear_test = Mae(test_y5, pred_reg_test)\n",
    "linear_test\n"
   ]
  },
  {
   "cell_type": "code",
   "execution_count": 93,
   "id": "d0da6ea3",
   "metadata": {},
   "outputs": [
    {
     "data": {
      "text/plain": [
       "0.6493707648118152"
      ]
     },
     "execution_count": 93,
     "metadata": {},
     "output_type": "execute_result"
    }
   ],
   "source": [
    "Linear_testing = 1 - (linear_test/mean_error)\n",
    "Linear_testing"
   ]
  },
  {
   "cell_type": "markdown",
   "id": "85d1767d",
   "metadata": {},
   "source": [
    "#  End of Linear Model"
   ]
  },
  {
   "cell_type": "markdown",
   "id": "782d497c",
   "metadata": {},
   "source": [
    "# Decision Tree Model"
   ]
  },
  {
   "cell_type": "code",
   "execution_count": 94,
   "id": "f05dfdce",
   "metadata": {},
   "outputs": [],
   "source": [
    "# Shuffling the dataset\n",
    "from sklearn.utils import shuffle\n",
    "data = shuffle(data, random_state = 42)"
   ]
  },
  {
   "cell_type": "code",
   "execution_count": 95,
   "id": "8d77895c",
   "metadata": {},
   "outputs": [],
   "source": [
    "#Separating the independent and dependent variables\n",
    "x2 = data.drop(['trip_duration'], axis = 1)\n",
    "y2 = data['trip_duration']"
   ]
  },
  {
   "cell_type": "code",
   "execution_count": 96,
   "id": "9ee6bba7",
   "metadata": {},
   "outputs": [],
   "source": [
    "#Importing library and creating the train and test set\n",
    "from sklearn.model_selection import train_test_split\n",
    "train_x6, test_x6, train_y6, test_y6 = train_test_split(x2, y2, random_state = 101, test_size = 0.20)\n"
   ]
  },
  {
   "cell_type": "code",
   "execution_count": 97,
   "id": "d39a2626",
   "metadata": {},
   "outputs": [],
   "source": [
    "#Creating the train and validation set\n",
    "train_x7, valid_x6, train_y7, valid_y6 = train_test_split(train_x6, train_y6, random_state = 101, test_size = 0.20)\n"
   ]
  },
  {
   "cell_type": "code",
   "execution_count": 98,
   "id": "5e4a8dfd",
   "metadata": {},
   "outputs": [],
   "source": [
    " #Importing Decision Tree Regressor\n",
    "from sklearn.tree import DecisionTreeRegressor\n",
    "dec_mod = DecisionTreeRegressor(random_state = 10)\n"
   ]
  },
  {
   "cell_type": "code",
   "execution_count": 99,
   "id": "1578cebd",
   "metadata": {},
   "outputs": [
    {
     "data": {
      "text/plain": [
       "DecisionTreeRegressor(random_state=10)"
      ]
     },
     "execution_count": 99,
     "metadata": {},
     "output_type": "execute_result"
    }
   ],
   "source": [
    "dec_mod.fit(train_x7, train_y7)"
   ]
  },
  {
   "cell_type": "code",
   "execution_count": 100,
   "id": "e3514416",
   "metadata": {},
   "outputs": [
    {
     "data": {
      "text/plain": [
       "1.0"
      ]
     },
     "execution_count": 100,
     "metadata": {},
     "output_type": "execute_result"
    }
   ],
   "source": [
    "# Checking the train score\n",
    "dec_mod.score(train_x7, train_y7)"
   ]
  },
  {
   "cell_type": "code",
   "execution_count": 101,
   "id": "ecb4f816",
   "metadata": {},
   "outputs": [
    {
     "data": {
      "text/plain": [
       "0.9998154576347797"
      ]
     },
     "execution_count": 101,
     "metadata": {},
     "output_type": "execute_result"
    }
   ],
   "source": [
    "# Checking the validation score\n",
    "dec_mod.score(valid_x6, valid_y6)"
   ]
  },
  {
   "cell_type": "markdown",
   "id": "e56e9983",
   "metadata": {},
   "source": [
    "We noticed that both train and validation have a good score and we need to check\n",
    "whether there’s overfitting and to interpret that how different properties influence the\n",
    "tree. Next, interpreting accuracy relative to max depth"
   ]
  },
  {
   "cell_type": "code",
   "execution_count": 102,
   "id": "4c79f980",
   "metadata": {},
   "outputs": [],
   "source": [
    "train_acc = []\n",
    "validation_acc = []\n",
    "for dep in range(1, 15):\n",
    "    dec_mod = DecisionTreeRegressor(max_depth = dep, random_state=10)\n",
    "    dec_mod.fit(train_x7, train_y7)\n",
    "    train_acc.append(dec_mod.score(train_x7, train_y7))\n",
    "    validation_acc.append(dec_mod.score(valid_x6, valid_y6))"
   ]
  },
  {
   "cell_type": "code",
   "execution_count": 103,
   "id": "124faf1d",
   "metadata": {},
   "outputs": [
    {
     "data": {
      "text/html": [
       "<div>\n",
       "<style scoped>\n",
       "    .dataframe tbody tr th:only-of-type {\n",
       "        vertical-align: middle;\n",
       "    }\n",
       "\n",
       "    .dataframe tbody tr th {\n",
       "        vertical-align: top;\n",
       "    }\n",
       "\n",
       "    .dataframe thead th {\n",
       "        text-align: right;\n",
       "    }\n",
       "</style>\n",
       "<table border=\"1\" class=\"dataframe\">\n",
       "  <thead>\n",
       "    <tr style=\"text-align: right;\">\n",
       "      <th></th>\n",
       "      <th>max_depth</th>\n",
       "      <th>tr_acc</th>\n",
       "      <th>valid_acc</th>\n",
       "    </tr>\n",
       "  </thead>\n",
       "  <tbody>\n",
       "    <tr>\n",
       "      <th>0</th>\n",
       "      <td>1</td>\n",
       "      <td>0.349974</td>\n",
       "      <td>0.342616</td>\n",
       "    </tr>\n",
       "    <tr>\n",
       "      <th>1</th>\n",
       "      <td>2</td>\n",
       "      <td>0.499061</td>\n",
       "      <td>0.494507</td>\n",
       "    </tr>\n",
       "    <tr>\n",
       "      <th>2</th>\n",
       "      <td>3</td>\n",
       "      <td>0.702598</td>\n",
       "      <td>0.700566</td>\n",
       "    </tr>\n",
       "    <tr>\n",
       "      <th>3</th>\n",
       "      <td>4</td>\n",
       "      <td>0.819605</td>\n",
       "      <td>0.816982</td>\n",
       "    </tr>\n",
       "    <tr>\n",
       "      <th>4</th>\n",
       "      <td>5</td>\n",
       "      <td>0.897586</td>\n",
       "      <td>0.895643</td>\n",
       "    </tr>\n",
       "  </tbody>\n",
       "</table>\n",
       "</div>"
      ],
      "text/plain": [
       "   max_depth    tr_acc  valid_acc\n",
       "0          1  0.349974   0.342616\n",
       "1          2  0.499061   0.494507\n",
       "2          3  0.702598   0.700566\n",
       "3          4  0.819605   0.816982\n",
       "4          5  0.897586   0.895643"
      ]
     },
     "execution_count": 103,
     "metadata": {},
     "output_type": "execute_result"
    }
   ],
   "source": [
    " #Collecting this data into a dataframe\n",
    "df = pd.DataFrame({'max_depth' : range(1, 15), 'tr_acc' : train_acc, 'valid_acc' : validation_acc})\n",
    "df.head()"
   ]
  },
  {
   "cell_type": "code",
   "execution_count": 104,
   "id": "860a141c",
   "metadata": {},
   "outputs": [
    {
     "data": {
      "text/plain": [
       "Text(0, 0.5, 'performance')"
      ]
     },
     "execution_count": 104,
     "metadata": {},
     "output_type": "execute_result"
    },
    {
     "data": {
      "image/png": "[encoded data removed]",
      "text/plain": [
       "<Figure size 864x432 with 1 Axes>"
      ]
     },
     "metadata": {
      "needs_background": "light"
     },
     "output_type": "display_data"
    }
   ],
   "source": [
    "#Plotting maxdepth relative\n",
    "plt.figure(figsize = (12, 6))\n",
    "plt.plot(df['max_depth'], df['tr_acc'], marker = 'o')\n",
    "plt.plot(df['max_depth'], df['valid_acc'], marker = 's')\n",
    "plt.xlabel('depth')\n",
    "plt.ylabel('performance')\n"
   ]
  },
  {
   "cell_type": "markdown",
   "id": "cff6eda5",
   "metadata": {},
   "source": [
    "The best Maximum Depth is at 9 while further plot is constant and overfitting might\n",
    "be the reason for this.\n",
    "\n"
   ]
  },
  {
   "cell_type": "code",
   "execution_count": 105,
   "id": "cfa5fd56",
   "metadata": {},
   "outputs": [],
   "source": [
    "# Creating a function for iterating over different max features and finding train and validation score\n",
    "train_accura = []\n",
    "validation_accura = []\n",
    "for feat in range(1, 35):\n",
    "    dec_mod = DecisionTreeRegressor(max_depth = 9, max_features = feat, min_samples_leaf = 1000, random_state = 10)\n",
    "    dec_mod.fit(train_x7, train_y7)\n",
    "    train_accura.append(dec_mod.score(train_x7, train_y7))\n",
    "    validation_accura.append(dec_mod.score(valid_x6, valid_y6))"
   ]
  },
  {
   "cell_type": "code",
   "execution_count": 106,
   "id": "84dd3f4e",
   "metadata": {},
   "outputs": [
    {
     "data": {
      "text/html": [
       "<div>\n",
       "<style scoped>\n",
       "    .dataframe tbody tr th:only-of-type {\n",
       "        vertical-align: middle;\n",
       "    }\n",
       "\n",
       "    .dataframe tbody tr th {\n",
       "        vertical-align: top;\n",
       "    }\n",
       "\n",
       "    .dataframe thead th {\n",
       "        text-align: right;\n",
       "    }\n",
       "</style>\n",
       "<table border=\"1\" class=\"dataframe\">\n",
       "  <thead>\n",
       "    <tr style=\"text-align: right;\">\n",
       "      <th></th>\n",
       "      <th>max_features</th>\n",
       "      <th>train_acc</th>\n",
       "      <th>valid_acc</th>\n",
       "    </tr>\n",
       "  </thead>\n",
       "  <tbody>\n",
       "    <tr>\n",
       "      <th>0</th>\n",
       "      <td>1</td>\n",
       "      <td>0.034124</td>\n",
       "      <td>0.031735</td>\n",
       "    </tr>\n",
       "    <tr>\n",
       "      <th>1</th>\n",
       "      <td>2</td>\n",
       "      <td>0.103191</td>\n",
       "      <td>0.100370</td>\n",
       "    </tr>\n",
       "    <tr>\n",
       "      <th>2</th>\n",
       "      <td>3</td>\n",
       "      <td>0.458994</td>\n",
       "      <td>0.455700</td>\n",
       "    </tr>\n",
       "    <tr>\n",
       "      <th>3</th>\n",
       "      <td>4</td>\n",
       "      <td>0.360500</td>\n",
       "      <td>0.354090</td>\n",
       "    </tr>\n",
       "    <tr>\n",
       "      <th>4</th>\n",
       "      <td>5</td>\n",
       "      <td>0.213383</td>\n",
       "      <td>0.208936</td>\n",
       "    </tr>\n",
       "  </tbody>\n",
       "</table>\n",
       "</div>"
      ],
      "text/plain": [
       "   max_features  train_acc  valid_acc\n",
       "0             1   0.034124   0.031735\n",
       "1             2   0.103191   0.100370\n",
       "2             3   0.458994   0.455700\n",
       "3             4   0.360500   0.354090\n",
       "4             5   0.213383   0.208936"
      ]
     },
     "execution_count": 106,
     "metadata": {},
     "output_type": "execute_result"
    }
   ],
   "source": [
    "# Collecting the above data into a dataframe\n",
    "df = pd.DataFrame({'max_features':range(1, 35), 'train_acc':train_accura, 'valid_acc':validation_accura})\n",
    "df.head()"
   ]
  },
  {
   "cell_type": "code",
   "execution_count": 107,
   "id": "5ff5fe5c",
   "metadata": {},
   "outputs": [
    {
     "data": {
      "text/plain": [
       "Text(0, 0.5, 'Performance')"
      ]
     },
     "execution_count": 107,
     "metadata": {},
     "output_type": "execute_result"
    },
    {
     "data": {
      "image/png": "[encoded data removed]",
      "text/plain": [
       "<Figure size 864x432 with 1 Axes>"
      ]
     },
     "metadata": {
      "needs_background": "light"
     },
     "output_type": "display_data"
    }
   ],
   "source": [
    "#Plotting the max features according to the model score\n",
    "plt.figure(figsize =(12, 6))\n",
    "plt.plot(df['max_features'], df['train_acc'], marker = 's')\n",
    "plt.plot(df['max_features'], df['valid_acc'], marker = 'o')\n",
    "plt.xlabel('Features')\n",
    "plt.ylabel('Performance')"
   ]
  },
  {
   "cell_type": "markdown",
   "id": "dbf33297",
   "metadata": {},
   "source": [
    "The best no. of feature from the plot is 31. Moving on selecting the max feature and\n",
    "depth and finding train and test score.\n",
    "\n"
   ]
  },
  {
   "cell_type": "code",
   "execution_count": 108,
   "id": "e9b50d44",
   "metadata": {},
   "outputs": [
    {
     "data": {
      "text/plain": [
       "DecisionTreeRegressor(max_depth=9, max_features=31, min_samples_leaf=1000,\n",
       "                      random_state=10)"
      ]
     },
     "execution_count": 108,
     "metadata": {},
     "output_type": "execute_result"
    }
   ],
   "source": [
    "DecisionTreeRegressor(max_depth = 9, max_features = 31, min_samples_leaf = 1000, random_state =10)"
   ]
  },
  {
   "cell_type": "code",
   "execution_count": 109,
   "id": "553235e5",
   "metadata": {},
   "outputs": [
    {
     "data": {
      "text/plain": [
       "DecisionTreeRegressor(max_depth=9, max_features=34, min_samples_leaf=1000,\n",
       "                      random_state=10)"
      ]
     },
     "execution_count": 109,
     "metadata": {},
     "output_type": "execute_result"
    }
   ],
   "source": [
    "# Fitting this model\n",
    "dec_mod.fit(train_x7, train_y7)"
   ]
  },
  {
   "cell_type": "code",
   "execution_count": 110,
   "id": "e2c34162",
   "metadata": {},
   "outputs": [
    {
     "data": {
      "text/plain": [
       "0.9599354942785283"
      ]
     },
     "execution_count": 110,
     "metadata": {},
     "output_type": "execute_result"
    }
   ],
   "source": [
    "# Training Score\n",
    "dec_train = dec_mod.score(train_x7, train_y7)\n",
    "dec_train"
   ]
  },
  {
   "cell_type": "code",
   "execution_count": 111,
   "id": "0f480f68",
   "metadata": {},
   "outputs": [
    {
     "data": {
      "text/plain": [
       "0.959302776510596"
      ]
     },
     "execution_count": 111,
     "metadata": {},
     "output_type": "execute_result"
    }
   ],
   "source": [
    "# Validation Score\n",
    "dec_mod.score(valid_x6, valid_y6)"
   ]
  },
  {
   "cell_type": "markdown",
   "id": "074899dc",
   "metadata": {},
   "source": [
    "Finally, at last we see how this model performs on the test data"
   ]
  },
  {
   "cell_type": "code",
   "execution_count": 112,
   "id": "08f64d59",
   "metadata": {},
   "outputs": [
    {
     "data": {
      "text/plain": [
       "0.9596925002373304"
      ]
     },
     "execution_count": 112,
     "metadata": {},
     "output_type": "execute_result"
    }
   ],
   "source": [
    "dec_test = dec_mod.score(test_x6, test_y6)\n",
    "dec_test"
   ]
  },
  {
   "cell_type": "markdown",
   "id": "a34dcc4f",
   "metadata": {},
   "source": [
    "We get to see that the data didn’t overfit and a good test score is obtained.\n"
   ]
  },
  {
   "cell_type": "markdown",
   "id": "81de9bcc",
   "metadata": {},
   "source": [
    "### Drawing Decision Tree"
   ]
  },
  {
   "cell_type": "code",
   "execution_count": 113,
   "id": "42cba511",
   "metadata": {},
   "outputs": [],
   "source": [
    "from sklearn import tree"
   ]
  },
  {
   "cell_type": "code",
   "execution_count": 114,
   "id": "8b344c83",
   "metadata": {},
   "outputs": [],
   "source": [
    "deci_tree = tree.export_graphviz(dec_mod, out_file = 'decision_tree.dot', feature_names = train_x6.columns, max_depth = 2, filled = True)\n"
   ]
  },
  {
   "cell_type": "code",
   "execution_count": 115,
   "id": "51f42a1a",
   "metadata": {},
   "outputs": [],
   "source": [
    "!dot -Tpng decision_tree.dot -o decision_tree.png"
   ]
  },
  {
   "cell_type": "code",
   "execution_count": 116,
   "id": "d7626738",
   "metadata": {},
   "outputs": [
    {
     "data": {
      "text/plain": [
       "<matplotlib.image.AxesImage at 0x27a1ed76610>"
      ]
     },
     "execution_count": 116,
     "metadata": {},
     "output_type": "execute_result"
    },
    {
     "data": {
      "image/png": "[encoded data removed]",
      "text/plain": [
       "<Figure size 7200x7200 with 1 Axes>"
      ]
     },
     "metadata": {
      "needs_background": "light"
     },
     "output_type": "display_data"
    }
   ],
   "source": [
    "img = plt.imread('decision_tree.png')\n",
    "plt.figure(figsize = (100, 100))\n",
    "plt.imshow(img)"
   ]
  },
  {
   "cell_type": "markdown",
   "id": "89dc4556",
   "metadata": {},
   "source": [
    "In the decision tree plot, we can see that the distance and speed variables takes\n",
    "precedence and predictions that are accurate is based on these two.\n"
   ]
  },
  {
   "cell_type": "markdown",
   "id": "c7fe36d3",
   "metadata": {},
   "source": [
    "# KNN Model"
   ]
  },
  {
   "cell_type": "code",
   "execution_count": 117,
   "id": "35bb2462",
   "metadata": {},
   "outputs": [
    {
     "data": {
      "text/plain": [
       "Index(['passenger_count', 'pickup_longitude', 'pickup_latitude',\n",
       "       'dropoff_longitude', 'dropoff_latitude', 'trip_duration', 'distance',\n",
       "       'speed', 'flag_N', 'flag_Y', 'vendor_id_1', 'vendor_id_2', 'month_1',\n",
       "       'month_2', 'month_3', 'month_4', 'month_5', 'month_6', 'day_number_0',\n",
       "       'day_number_1', 'day_number_2', 'day_number_3', 'day_number_4',\n",
       "       'day_number_5', 'day_number_6', 'pickup_hour_0', 'pickup_hour_1',\n",
       "       'pickup_hour_2', 'pickup_hour_3', 'pickup_hour_4', 'pickup_hour_5',\n",
       "       'pickup_hour_6', 'pickup_hour_7', 'pickup_hour_8', 'pickup_hour_9',\n",
       "       'pickup_hour_10', 'pickup_hour_11', 'pickup_hour_12', 'pickup_hour_13',\n",
       "       'pickup_hour_14', 'pickup_hour_15', 'pickup_hour_16', 'pickup_hour_17',\n",
       "       'pickup_hour_18', 'pickup_hour_19', 'pickup_hour_20', 'pickup_hour_21',\n",
       "       'pickup_hour_22', 'pickup_hour_23'],\n",
       "      dtype='object')"
      ]
     },
     "execution_count": 117,
     "metadata": {},
     "output_type": "execute_result"
    }
   ],
   "source": [
    "data.columns"
   ]
  },
  {
   "cell_type": "code",
   "execution_count": 118,
   "id": "0d5a3b3f",
   "metadata": {},
   "outputs": [],
   "source": [
    "# Separating dependent and independent variables\n",
    "x = data.drop(['trip_duration'], axis =1)\n",
    "y = data['trip_duration']\n"
   ]
  },
  {
   "cell_type": "code",
   "execution_count": 119,
   "id": "7a627d3e",
   "metadata": {},
   "outputs": [],
   "source": [
    "# Importing MinMax Scaler\n",
    "from sklearn.preprocessing import MinMaxScaler\n",
    "scaler = MinMaxScaler()\n",
    "x_scale = scaler.fit_transform(x)\n"
   ]
  },
  {
   "cell_type": "code",
   "execution_count": 120,
   "id": "f3552b4c",
   "metadata": {},
   "outputs": [],
   "source": [
    "frame = pd.DataFrame(x_scale, columns= x.columns)"
   ]
  },
  {
   "cell_type": "code",
   "execution_count": 121,
   "id": "5e5dfa28",
   "metadata": {},
   "outputs": [],
   "source": [
    "# Creating train and test sets\n",
    "from sklearn.model_selection import train_test_split\n",
    "train_x3, test_x3, train_y3, test_y3 = train_test_split(frame,y, random_state =65)\n"
   ]
  },
  {
   "cell_type": "code",
   "execution_count": 122,
   "id": "329a914f",
   "metadata": {},
   "outputs": [],
   "source": [
    "# Importing KNN Regressor and Evaluation Metric MAE\n",
    "from sklearn.neighbors import KNeighborsRegressor as KNN\n",
    "from sklearn.metrics import mean_squared_error as mse"
   ]
  },
  {
   "cell_type": "code",
   "execution_count": 123,
   "id": "04f8fe04",
   "metadata": {},
   "outputs": [],
   "source": [
    "# Creating instance of KNN\n",
    "reg = KNN(n_neighbors = 8)\n",
    "\n",
    "# Fitting the model\n",
    "reg.fit(train_x5, train_y5)\n",
    "\n",
    "# Predicting over the Train Set and calculating MSE\n",
    "test_predict = reg.predict(test_x5)\n",
    "k = mse(test_predict, test_y5)\n",
    "print('Test MSE    ', k )"
   ]
  },
  {
   "cell_type": "code",
   "execution_count": 124,
   "id": "1f6e102f",
   "metadata": {},
   "outputs": [],
   "source": [
    "def Elbow(K):\n",
    "  #initiating empty list\n",
    "    test_mse = []\n",
    "  \n",
    "  #training model for evey value of K\n",
    "    for i in K:\n",
    "        #Instance of KNN\n",
    "        reg = KNN(n_neighbors = i)\n",
    "        reg.fit(train_x5, train_y5)\n",
    "        #Appending mse value to empty list claculated using the predictions\n",
    "        tmp = reg.predict(test_x5)\n",
    "        tmp = mse(tmp,test_y5)\n",
    "        test_mse.append(tmp)\n",
    "    \n",
    "    return test_mse"
   ]
  },
  {
   "cell_type": "code",
   "execution_count": 125,
   "id": "1ae4fd7f",
   "metadata": {},
   "outputs": [],
   "source": [
    "# Defining K range\n",
    "k = range(1,40)"
   ]
  },
  {
   "cell_type": "code",
   "execution_count": 126,
   "id": "be439e91",
   "metadata": {},
   "outputs": [],
   "source": [
    "# calling above defined function\n",
    "test = Elbow(k)\n",
    "# plotting the Curves\n",
    "plt.plot(k, test)\n",
    "plt.xlabel('K Neighbors')\n",
    "plt.ylabel('Test Mean Squared Error')\n",
    "plt.title('Elbow Curve for test')"
   ]
  },
  {
   "cell_type": "raw",
   "id": "5e3afe2d",
   "metadata": {},
   "source": [
    "    In KNN Model after trying over different values of n Neighbors and using predict for the training dataset, there is a failure of the output (System just freezed while plotting the Elbow Curve) due to lack of computational capacity of my laptop.\n",
    "\n",
    "I also tried on 'google colab' (As sir told in Q&A Form) but there also it took a lot of time and gave an unexpected error.\n",
    "\n",
    "I also tried using Random Sampling (In [9]) (taking about 0.3 [30%] data, still took a lot of time and freezed at the end.\n",
    "With this model, there is no particular conclusion. Even after trying the concept of k values, still the same problem arises. \n",
    "So it is better not to use KNN for this dataset.\n"
   ]
  },
  {
   "cell_type": "markdown",
   "id": "19201e2b",
   "metadata": {},
   "source": [
    "### Comparing Models"
   ]
  },
  {
   "cell_type": "code",
   "execution_count": 127,
   "id": "655ba752",
   "metadata": {},
   "outputs": [],
   "source": [
    "compare = {'type':['train','test','train','test'],\n",
    "'model': ['linear','linear','decision_tree','decision_tree'],\n",
    "'score': [Linear_training, Linear_testing,dec_train,dec_test]\n",
    "}\n",
    "df = pd.DataFrame(compare)"
   ]
  },
  {
   "cell_type": "code",
   "execution_count": 128,
   "id": "99726276",
   "metadata": {},
   "outputs": [
    {
     "data": {
      "text/plain": [
       "<AxesSubplot:xlabel='model', ylabel='score'>"
      ]
     },
     "execution_count": 128,
     "metadata": {},
     "output_type": "execute_result"
    },
    {
     "data": {
      "image/png": "[encoded data removed]",
      "text/plain": [
       "<Figure size 960x720 with 1 Axes>"
      ]
     },
     "metadata": {},
     "output_type": "display_data"
    }
   ],
   "source": [
    "plt.figure(figsize=(8, 6), dpi=120, facecolor='w', edgecolor='b')\n",
    "sns.barplot(data = df,x = 'model' ,y = 'score',hue = 'type',ci = None )"
   ]
  },
  {
   "cell_type": "markdown",
   "id": "2803125e",
   "metadata": {},
   "source": [
    "    Looking at the plot, it is clear that the Decision tree is giving best output for prediction of data."
   ]
  },
  {
   "cell_type": "code",
   "execution_count": null,
   "id": "08622d1e",
   "metadata": {},
   "outputs": [],
   "source": []
  }
 ],
 "metadata": {
  "kernelspec": {
   "display_name": "Python 3 (ipykernel)",
   "language": "python",
   "name": "python3"
  },
  "language_info": {
   "codemirror_mode": {
    "name": "ipython",
    "version": 3
   },
   "file_extension": ".py",
   "mimetype": "text/x-python",
   "name": "python",
   "nbconvert_exporter": "python",
   "pygments_lexer": "ipython3",
   "version": "3.9.12"
  }
 },
 "nbformat": 4,
 "nbformat_minor": 5
}
